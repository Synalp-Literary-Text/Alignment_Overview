{
  "cells": [
    {
      "cell_type": "code",
      "execution_count": 1,
      "metadata": {
        "colab": {
          "base_uri": "https://localhost:8080/"
        },
        "id": "X_1RWIbi0pPZ",
        "outputId": "c99821ed-d1ee-4992-ea17-f046bf4e0a1d"
      },
      "outputs": [
        {
          "name": "stdout",
          "output_type": "stream",
          "text": [
            "Collecting lingtrain-aligner==0.4.3\n",
            "  Downloading lingtrain_aligner-0.4.3-py3-none-any.whl.metadata (3.0 kB)\n",
            "Downloading lingtrain_aligner-0.4.3-py3-none-any.whl (38 kB)\n",
            "Installing collected packages: lingtrain-aligner\n",
            "Successfully installed lingtrain-aligner-0.4.3\n",
            "Collecting razdel\n",
            "  Downloading razdel-0.5.0-py3-none-any.whl.metadata (10.0 kB)\n",
            "Collecting dateparser\n",
            "  Downloading dateparser-1.2.1-py3-none-any.whl.metadata (29 kB)\n",
            "Requirement already satisfied: sentence_transformers in /usr/local/lib/python3.11/dist-packages (3.4.1)\n",
            "Requirement already satisfied: python-dateutil>=2.7.0 in /usr/local/lib/python3.11/dist-packages (from dateparser) (2.8.2)\n",
            "Requirement already satisfied: pytz>=2024.2 in /usr/local/lib/python3.11/dist-packages (from dateparser) (2025.1)\n",
            "Requirement already satisfied: regex!=2019.02.19,!=2021.8.27,>=2015.06.24 in /usr/local/lib/python3.11/dist-packages (from dateparser) (2024.11.6)\n",
            "Requirement already satisfied: tzlocal>=0.2 in /usr/local/lib/python3.11/dist-packages (from dateparser) (5.2)\n",
            "Requirement already satisfied: transformers<5.0.0,>=4.41.0 in /usr/local/lib/python3.11/dist-packages (from sentence_transformers) (4.48.2)\n",
            "Requirement already satisfied: tqdm in /usr/local/lib/python3.11/dist-packages (from sentence_transformers) (4.67.1)\n",
            "Requirement already satisfied: torch>=1.11.0 in /usr/local/lib/python3.11/dist-packages (from sentence_transformers) (2.5.1+cu124)\n",
            "Requirement already satisfied: scikit-learn in /usr/local/lib/python3.11/dist-packages (from sentence_transformers) (1.6.1)\n",
            "Requirement already satisfied: scipy in /usr/local/lib/python3.11/dist-packages (from sentence_transformers) (1.13.1)\n",
            "Requirement already satisfied: huggingface-hub>=0.20.0 in /usr/local/lib/python3.11/dist-packages (from sentence_transformers) (0.28.1)\n",
            "Requirement already satisfied: Pillow in /usr/local/lib/python3.11/dist-packages (from sentence_transformers) (11.1.0)\n",
            "Requirement already satisfied: filelock in /usr/local/lib/python3.11/dist-packages (from huggingface-hub>=0.20.0->sentence_transformers) (3.17.0)\n",
            "Requirement already satisfied: fsspec>=2023.5.0 in /usr/local/lib/python3.11/dist-packages (from huggingface-hub>=0.20.0->sentence_transformers) (2024.10.0)\n",
            "Requirement already satisfied: packaging>=20.9 in /usr/local/lib/python3.11/dist-packages (from huggingface-hub>=0.20.0->sentence_transformers) (24.2)\n",
            "Requirement already satisfied: pyyaml>=5.1 in /usr/local/lib/python3.11/dist-packages (from huggingface-hub>=0.20.0->sentence_transformers) (6.0.2)\n",
            "Requirement already satisfied: requests in /usr/local/lib/python3.11/dist-packages (from huggingface-hub>=0.20.0->sentence_transformers) (2.32.3)\n",
            "Requirement already satisfied: typing-extensions>=3.7.4.3 in /usr/local/lib/python3.11/dist-packages (from huggingface-hub>=0.20.0->sentence_transformers) (4.12.2)\n",
            "Requirement already satisfied: six>=1.5 in /usr/local/lib/python3.11/dist-packages (from python-dateutil>=2.7.0->dateparser) (1.17.0)\n",
            "Requirement already satisfied: networkx in /usr/local/lib/python3.11/dist-packages (from torch>=1.11.0->sentence_transformers) (3.4.2)\n",
            "Requirement already satisfied: jinja2 in /usr/local/lib/python3.11/dist-packages (from torch>=1.11.0->sentence_transformers) (3.1.5)\n",
            "Collecting nvidia-cuda-nvrtc-cu12==12.4.127 (from torch>=1.11.0->sentence_transformers)\n",
            "  Downloading nvidia_cuda_nvrtc_cu12-12.4.127-py3-none-manylinux2014_x86_64.whl.metadata (1.5 kB)\n",
            "Collecting nvidia-cuda-runtime-cu12==12.4.127 (from torch>=1.11.0->sentence_transformers)\n",
            "  Downloading nvidia_cuda_runtime_cu12-12.4.127-py3-none-manylinux2014_x86_64.whl.metadata (1.5 kB)\n",
            "Collecting nvidia-cuda-cupti-cu12==12.4.127 (from torch>=1.11.0->sentence_transformers)\n",
            "  Downloading nvidia_cuda_cupti_cu12-12.4.127-py3-none-manylinux2014_x86_64.whl.metadata (1.6 kB)\n",
            "Collecting nvidia-cudnn-cu12==9.1.0.70 (from torch>=1.11.0->sentence_transformers)\n",
            "  Downloading nvidia_cudnn_cu12-9.1.0.70-py3-none-manylinux2014_x86_64.whl.metadata (1.6 kB)\n",
            "Collecting nvidia-cublas-cu12==12.4.5.8 (from torch>=1.11.0->sentence_transformers)\n",
            "  Downloading nvidia_cublas_cu12-12.4.5.8-py3-none-manylinux2014_x86_64.whl.metadata (1.5 kB)\n",
            "Collecting nvidia-cufft-cu12==11.2.1.3 (from torch>=1.11.0->sentence_transformers)\n",
            "  Downloading nvidia_cufft_cu12-11.2.1.3-py3-none-manylinux2014_x86_64.whl.metadata (1.5 kB)\n",
            "Collecting nvidia-curand-cu12==10.3.5.147 (from torch>=1.11.0->sentence_transformers)\n",
            "  Downloading nvidia_curand_cu12-10.3.5.147-py3-none-manylinux2014_x86_64.whl.metadata (1.5 kB)\n",
            "Collecting nvidia-cusolver-cu12==11.6.1.9 (from torch>=1.11.0->sentence_transformers)\n",
            "  Downloading nvidia_cusolver_cu12-11.6.1.9-py3-none-manylinux2014_x86_64.whl.metadata (1.6 kB)\n",
            "Collecting nvidia-cusparse-cu12==12.3.1.170 (from torch>=1.11.0->sentence_transformers)\n",
            "  Downloading nvidia_cusparse_cu12-12.3.1.170-py3-none-manylinux2014_x86_64.whl.metadata (1.6 kB)\n",
            "Requirement already satisfied: nvidia-nccl-cu12==2.21.5 in /usr/local/lib/python3.11/dist-packages (from torch>=1.11.0->sentence_transformers) (2.21.5)\n",
            "Requirement already satisfied: nvidia-nvtx-cu12==12.4.127 in /usr/local/lib/python3.11/dist-packages (from torch>=1.11.0->sentence_transformers) (12.4.127)\n",
            "Collecting nvidia-nvjitlink-cu12==12.4.127 (from torch>=1.11.0->sentence_transformers)\n",
            "  Downloading nvidia_nvjitlink_cu12-12.4.127-py3-none-manylinux2014_x86_64.whl.metadata (1.5 kB)\n",
            "Requirement already satisfied: triton==3.1.0 in /usr/local/lib/python3.11/dist-packages (from torch>=1.11.0->sentence_transformers) (3.1.0)\n",
            "Requirement already satisfied: sympy==1.13.1 in /usr/local/lib/python3.11/dist-packages (from torch>=1.11.0->sentence_transformers) (1.13.1)\n",
            "Requirement already satisfied: mpmath<1.4,>=1.1.0 in /usr/local/lib/python3.11/dist-packages (from sympy==1.13.1->torch>=1.11.0->sentence_transformers) (1.3.0)\n",
            "Requirement already satisfied: numpy>=1.17 in /usr/local/lib/python3.11/dist-packages (from transformers<5.0.0,>=4.41.0->sentence_transformers) (1.26.4)\n",
            "Requirement already satisfied: tokenizers<0.22,>=0.21 in /usr/local/lib/python3.11/dist-packages (from transformers<5.0.0,>=4.41.0->sentence_transformers) (0.21.0)\n",
            "Requirement already satisfied: safetensors>=0.4.1 in /usr/local/lib/python3.11/dist-packages (from transformers<5.0.0,>=4.41.0->sentence_transformers) (0.5.2)\n",
            "Requirement already satisfied: joblib>=1.2.0 in /usr/local/lib/python3.11/dist-packages (from scikit-learn->sentence_transformers) (1.4.2)\n",
            "Requirement already satisfied: threadpoolctl>=3.1.0 in /usr/local/lib/python3.11/dist-packages (from scikit-learn->sentence_transformers) (3.5.0)\n",
            "Requirement already satisfied: MarkupSafe>=2.0 in /usr/local/lib/python3.11/dist-packages (from jinja2->torch>=1.11.0->sentence_transformers) (3.0.2)\n",
            "Requirement already satisfied: charset-normalizer<4,>=2 in /usr/local/lib/python3.11/dist-packages (from requests->huggingface-hub>=0.20.0->sentence_transformers) (3.4.1)\n",
            "Requirement already satisfied: idna<4,>=2.5 in /usr/local/lib/python3.11/dist-packages (from requests->huggingface-hub>=0.20.0->sentence_transformers) (3.10)\n",
            "Requirement already satisfied: urllib3<3,>=1.21.1 in /usr/local/lib/python3.11/dist-packages (from requests->huggingface-hub>=0.20.0->sentence_transformers) (2.3.0)\n",
            "Requirement already satisfied: certifi>=2017.4.17 in /usr/local/lib/python3.11/dist-packages (from requests->huggingface-hub>=0.20.0->sentence_transformers) (2025.1.31)\n",
            "Downloading razdel-0.5.0-py3-none-any.whl (21 kB)\n",
            "Downloading dateparser-1.2.1-py3-none-any.whl (295 kB)\n",
            "\u001b[2K   \u001b[90m━━━━━━━━━━━━━━━━━━━━━━━━━━━━━━━━━━━━━━━━\u001b[0m \u001b[32m295.7/295.7 kB\u001b[0m \u001b[31m8.0 MB/s\u001b[0m eta \u001b[36m0:00:00\u001b[0m\n",
            "\u001b[?25hDownloading nvidia_cublas_cu12-12.4.5.8-py3-none-manylinux2014_x86_64.whl (363.4 MB)\n",
            "\u001b[2K   \u001b[90m━━━━━━━━━━━━━━━━━━━━━━━━━━━━━━━━━━━━━━━━\u001b[0m \u001b[32m363.4/363.4 MB\u001b[0m \u001b[31m4.1 MB/s\u001b[0m eta \u001b[36m0:00:00\u001b[0m\n",
            "\u001b[?25hDownloading nvidia_cuda_cupti_cu12-12.4.127-py3-none-manylinux2014_x86_64.whl (13.8 MB)\n",
            "\u001b[2K   \u001b[90m━━━━━━━━━━━━━━━━━━━━━━━━━━━━━━━━━━━━━━━━\u001b[0m \u001b[32m13.8/13.8 MB\u001b[0m \u001b[31m51.3 MB/s\u001b[0m eta \u001b[36m0:00:00\u001b[0m\n",
            "\u001b[?25hDownloading nvidia_cuda_nvrtc_cu12-12.4.127-py3-none-manylinux2014_x86_64.whl (24.6 MB)\n",
            "\u001b[2K   \u001b[90m━━━━━━━━━━━━━━━━━━━━━━━━━━━━━━━━━━━━━━━━\u001b[0m \u001b[32m24.6/24.6 MB\u001b[0m \u001b[31m44.1 MB/s\u001b[0m eta \u001b[36m0:00:00\u001b[0m\n",
            "\u001b[?25hDownloading nvidia_cuda_runtime_cu12-12.4.127-py3-none-manylinux2014_x86_64.whl (883 kB)\n",
            "\u001b[2K   \u001b[90m━━━━━━━━━━━━━━━━━━━━━━━━━━━━━━━━━━━━━━━━\u001b[0m \u001b[32m883.7/883.7 kB\u001b[0m \u001b[31m28.5 MB/s\u001b[0m eta \u001b[36m0:00:00\u001b[0m\n",
            "\u001b[?25hDownloading nvidia_cudnn_cu12-9.1.0.70-py3-none-manylinux2014_x86_64.whl (664.8 MB)\n",
            "\u001b[2K   \u001b[90m━━━━━━━━━━━━━━━━━━━━━━━━━━━━━━━━━━━━━━━━\u001b[0m \u001b[32m664.8/664.8 MB\u001b[0m \u001b[31m2.9 MB/s\u001b[0m eta \u001b[36m0:00:00\u001b[0m\n",
            "\u001b[?25hDownloading nvidia_cufft_cu12-11.2.1.3-py3-none-manylinux2014_x86_64.whl (211.5 MB)\n",
            "\u001b[2K   \u001b[90m━━━━━━━━━━━━━━━━━━━━━━━━━━━━━━━━━━━━━━━━\u001b[0m \u001b[32m211.5/211.5 MB\u001b[0m \u001b[31m6.0 MB/s\u001b[0m eta \u001b[36m0:00:00\u001b[0m\n",
            "\u001b[?25hDownloading nvidia_curand_cu12-10.3.5.147-py3-none-manylinux2014_x86_64.whl (56.3 MB)\n",
            "\u001b[2K   \u001b[90m━━━━━━━━━━━━━━━━━━━━━━━━━━━━━━━━━━━━━━━━\u001b[0m \u001b[32m56.3/56.3 MB\u001b[0m \u001b[31m11.4 MB/s\u001b[0m eta \u001b[36m0:00:00\u001b[0m\n",
            "\u001b[?25hDownloading nvidia_cusolver_cu12-11.6.1.9-py3-none-manylinux2014_x86_64.whl (127.9 MB)\n",
            "\u001b[2K   \u001b[90m━━━━━━━━━━━━━━━━━━━━━━━━━━━━━━━━━━━━━━━━\u001b[0m \u001b[32m127.9/127.9 MB\u001b[0m \u001b[31m7.5 MB/s\u001b[0m eta \u001b[36m0:00:00\u001b[0m\n",
            "\u001b[?25hDownloading nvidia_cusparse_cu12-12.3.1.170-py3-none-manylinux2014_x86_64.whl (207.5 MB)\n",
            "\u001b[2K   \u001b[90m━━━━━━━━━━━━━━━━━━━━━━━━━━━━━━━━━━━━━━━━\u001b[0m \u001b[32m207.5/207.5 MB\u001b[0m \u001b[31m6.9 MB/s\u001b[0m eta \u001b[36m0:00:00\u001b[0m\n",
            "\u001b[?25hDownloading nvidia_nvjitlink_cu12-12.4.127-py3-none-manylinux2014_x86_64.whl (21.1 MB)\n",
            "\u001b[2K   \u001b[90m━━━━━━━━━━━━━━━━━━━━━━━━━━━━━━━━━━━━━━━━\u001b[0m \u001b[32m21.1/21.1 MB\u001b[0m \u001b[31m49.7 MB/s\u001b[0m eta \u001b[36m0:00:00\u001b[0m\n",
            "\u001b[?25hInstalling collected packages: razdel, nvidia-nvjitlink-cu12, nvidia-curand-cu12, nvidia-cufft-cu12, nvidia-cuda-runtime-cu12, nvidia-cuda-nvrtc-cu12, nvidia-cuda-cupti-cu12, nvidia-cublas-cu12, nvidia-cusparse-cu12, nvidia-cudnn-cu12, dateparser, nvidia-cusolver-cu12\n",
            "  Attempting uninstall: nvidia-nvjitlink-cu12\n",
            "    Found existing installation: nvidia-nvjitlink-cu12 12.5.82\n",
            "    Uninstalling nvidia-nvjitlink-cu12-12.5.82:\n",
            "      Successfully uninstalled nvidia-nvjitlink-cu12-12.5.82\n",
            "  Attempting uninstall: nvidia-curand-cu12\n",
            "    Found existing installation: nvidia-curand-cu12 10.3.6.82\n",
            "    Uninstalling nvidia-curand-cu12-10.3.6.82:\n",
            "      Successfully uninstalled nvidia-curand-cu12-10.3.6.82\n",
            "  Attempting uninstall: nvidia-cufft-cu12\n",
            "    Found existing installation: nvidia-cufft-cu12 11.2.3.61\n",
            "    Uninstalling nvidia-cufft-cu12-11.2.3.61:\n",
            "      Successfully uninstalled nvidia-cufft-cu12-11.2.3.61\n",
            "  Attempting uninstall: nvidia-cuda-runtime-cu12\n",
            "    Found existing installation: nvidia-cuda-runtime-cu12 12.5.82\n",
            "    Uninstalling nvidia-cuda-runtime-cu12-12.5.82:\n",
            "      Successfully uninstalled nvidia-cuda-runtime-cu12-12.5.82\n",
            "  Attempting uninstall: nvidia-cuda-nvrtc-cu12\n",
            "    Found existing installation: nvidia-cuda-nvrtc-cu12 12.5.82\n",
            "    Uninstalling nvidia-cuda-nvrtc-cu12-12.5.82:\n",
            "      Successfully uninstalled nvidia-cuda-nvrtc-cu12-12.5.82\n",
            "  Attempting uninstall: nvidia-cuda-cupti-cu12\n",
            "    Found existing installation: nvidia-cuda-cupti-cu12 12.5.82\n",
            "    Uninstalling nvidia-cuda-cupti-cu12-12.5.82:\n",
            "      Successfully uninstalled nvidia-cuda-cupti-cu12-12.5.82\n",
            "  Attempting uninstall: nvidia-cublas-cu12\n",
            "    Found existing installation: nvidia-cublas-cu12 12.5.3.2\n",
            "    Uninstalling nvidia-cublas-cu12-12.5.3.2:\n",
            "      Successfully uninstalled nvidia-cublas-cu12-12.5.3.2\n",
            "  Attempting uninstall: nvidia-cusparse-cu12\n",
            "    Found existing installation: nvidia-cusparse-cu12 12.5.1.3\n",
            "    Uninstalling nvidia-cusparse-cu12-12.5.1.3:\n",
            "      Successfully uninstalled nvidia-cusparse-cu12-12.5.1.3\n",
            "  Attempting uninstall: nvidia-cudnn-cu12\n",
            "    Found existing installation: nvidia-cudnn-cu12 9.3.0.75\n",
            "    Uninstalling nvidia-cudnn-cu12-9.3.0.75:\n",
            "      Successfully uninstalled nvidia-cudnn-cu12-9.3.0.75\n",
            "  Attempting uninstall: nvidia-cusolver-cu12\n",
            "    Found existing installation: nvidia-cusolver-cu12 11.6.3.83\n",
            "    Uninstalling nvidia-cusolver-cu12-11.6.3.83:\n",
            "      Successfully uninstalled nvidia-cusolver-cu12-11.6.3.83\n",
            "Successfully installed dateparser-1.2.1 nvidia-cublas-cu12-12.4.5.8 nvidia-cuda-cupti-cu12-12.4.127 nvidia-cuda-nvrtc-cu12-12.4.127 nvidia-cuda-runtime-cu12-12.4.127 nvidia-cudnn-cu12-9.1.0.70 nvidia-cufft-cu12-11.2.1.3 nvidia-curand-cu12-10.3.5.147 nvidia-cusolver-cu12-11.6.1.9 nvidia-cusparse-cu12-12.3.1.170 nvidia-nvjitlink-cu12-12.4.127 razdel-0.5.0\n"
          ]
        }
      ],
      "source": [
        "#@title Install\n",
        "\n",
        "!pip install -U lingtrain-aligner==0.4.3\n",
        "!pip install razdel dateparser sentence_transformers"
      ]
    },
    {
      "cell_type": "code",
      "execution_count": 11,
      "metadata": {
        "id": "3mMgOqaU0rz6"
      },
      "outputs": [],
      "source": [
        "import os\n",
        "\n",
        "from lingtrain_aligner import preprocessor, splitter, aligner, resolver, reader, helper, vis_helper"
      ]
    },
    {
      "cell_type": "markdown",
      "metadata": {
        "id": "oJsIGWEP0zeV"
      },
      "source": [
        "## Import texts"
      ]
    },
    {
      "cell_type": "code",
      "execution_count": 25,
      "metadata": {
        "id": "okOujBrm4FHe"
      },
      "outputs": [],
      "source": [
        "text_src = \"/content/emma_en.txt\"\n",
        "text_tgt = \"/content/emma_fr.txt\""
      ]
    },
    {
      "cell_type": "code",
      "execution_count": 26,
      "metadata": {
        "id": "xiz8cdhf4Q4Q"
      },
      "outputs": [],
      "source": [
        "with open(text_src, 'r', encoding='utf-8') as file:\n",
        "    t_s = file.read()\n",
        "with open(text_tgt, 'r', encoding='utf-8') as file:\n",
        "    t_t = file.read()"
      ]
    },
    {
      "cell_type": "markdown",
      "metadata": {
        "id": "e_u7kpNn9lUN"
      },
      "source": [
        "## LingAligner"
      ]
    },
    {
      "cell_type": "code",
      "execution_count": 8,
      "metadata": {
        "id": "3eP-E3-I5ATF"
      },
      "outputs": [],
      "source": [
        "db_path = \"full_cycle.db\"\n",
        "\n",
        "lang_from = \"en\"\n",
        "lang_to = \"fr\"\n",
        "\n",
        "models = [\"sentence_transformer_multilingual\", \"sentence_transformer_multilingual_labse\"]\n",
        "model_name = models[0]\n"
      ]
    },
    {
      "cell_type": "code",
      "execution_count": 14,
      "metadata": {
        "colab": {
          "base_uri": "https://localhost:8080/"
        },
        "id": "qzsTObYO59GI",
        "outputId": "4f329dcf-210c-4e3f-fb6b-e6bde4f025fd"
      },
      "outputs": [
        {
          "data": {
            "text/plain": [
              "{'ru': {'name': 'Russian'},\n",
              " 'zh': {'name': 'Chinese'},\n",
              " 'de': {'name': 'German'},\n",
              " 'en': {'name': 'English'},\n",
              " 'fr': {'name': 'French'},\n",
              " 'it': {'name': 'Italian'},\n",
              " 'tr': {'name': 'Turkish'},\n",
              " 'es': {'name': 'Spanish'},\n",
              " 'pl': {'name': 'Polish'},\n",
              " 'pt': {'name': 'Portugal'},\n",
              " 'hu': {'name': 'Hungarian'},\n",
              " 'cz': {'name': 'Czech'},\n",
              " 'jp': {'name': 'Japanese'},\n",
              " 'ba': {'name': 'Bashkir'},\n",
              " 'xx': {'name': 'Unknown'}}"
            ]
          },
          "execution_count": 14,
          "metadata": {},
          "output_type": "execute_result"
        }
      ],
      "source": [
        "splitter.get_supported_languages()"
      ]
    },
    {
      "cell_type": "code",
      "execution_count": 9,
      "metadata": {
        "colab": {
          "base_uri": "https://localhost:8080/"
        },
        "id": "V-TdT0Nk5Mw7",
        "outputId": "dd0739d7-8cde-4d70-d84a-7de72ca0d0c4"
      },
      "outputs": [
        {
          "data": {
            "text/plain": [
              "['sentence_transformer_multilingual',\n",
              " 'sentence_transformer_multilingual_labse']"
            ]
          },
          "execution_count": 9,
          "metadata": {},
          "output_type": "execute_result"
        }
      ],
      "source": [
        "models"
      ]
    },
    {
      "cell_type": "code",
      "execution_count": 13,
      "metadata": {
        "colab": {
          "base_uri": "https://localhost:8080/",
          "height": 1000
        },
        "id": "UglwROS55p4O",
        "outputId": "09b6909c-b489-4186-db91-4d0c8a346665"
      },
      "outputs": [
        {
          "data": {
            "application/vnd.google.colaboratory.intrinsic+json": {
              "type": "string"
            },
            "text/plain": [
              "'Highbury, the large and populous village, almost amounting to a town, to which Hartfield, in spite of its separate lawn, and shrubberies, and name, did really belong, afforded her no equals. The Woodhouses were first in consequence there. All looked up to them. She had many acquaintance in the place, for her father was universally civil, but not one among them who could be accepted in lieu of Miss Taylor for even half a day. It was a melancholy change; and Emma could not but sigh over it, and wish for impossible things, till her father awoke, and made it necessary to be cheerful. His spirits required support. He was a nervous man, easily depressed; fond of every body that he was used to, and hating to part with them; hating change of every kind. Matrimony, as the origin of change, was always disagreeable; and he was by no means yet reconciled to his own daughter’s marrying, nor could ever speak of her but with compassion, though it had been entirely a match of affection, when he was now obliged to part with Miss Taylor too; and from his habits of gentle selfishness, and of being never able to suppose that other people could feel differently from himself, he was very much disposed to think Miss Taylor had done as sad a thing for herself as for them, and would have been a great deal happier if she had spent all the rest of her life at Hartfield. Emma smiled and chatted as cheerfully as she could, to keep him from such thoughts; but when tea came, it was impossible for him not to say exactly as he had said at dinner,\\n\\n“Poor Miss Taylor!—I wish she were here again. What a pity it is that Mr. Weston ever thought of her!”\\n\\n“I cannot agree with you, papa; you know I cannot. Mr. Weston is such a good-humoured, pleasant, excellent man, that he thoroughly deserves a good wife;—and you would not have had Miss Taylor live with us for ever, and bear all my odd humours, when she might have a house of her own?”\\n\\n“A house of her own!—But where is the advantage of a house of her own? This is three times as large.—And you have never any odd humours, my dear.”\\n\\n“How often we shall be going to see them, and they coming to see us!—We shall be always meeting! We must begin; we must go and pay wedding visit very soon.”\\n\\n“My dear, how am I to get so far? Randalls is such a distance. I could not walk half so far.”\\n\\n“No, papa, nobody thought of your walking. We must go in the carriage, to be sure.”\\n\\n“The carriage! But James will not like to put the horses to for such a little way;—and where are the poor horses to be while we are paying our visit?”\\n\\n“They are to be put into Mr. Weston’s stable, papa. You know we have settled all that already. We talked it all over with Mr. Weston last night. And as for James, you may be very sure he will always like going to Randalls, because of his daughter’s being housemaid there. I only doubt whether he will ever take us anywhere else. That was your doing, papa. You got Hannah that good place. Nobody thought of Hannah till you mentioned her—James is so obliged to you!”\\n\\n“I am very glad I did think of her. It was very lucky, for I would not have had poor James think himself slighted upon any account; and I am sure she will make a very good servant: she is a civil, pretty-spoken girl; I have a great opinion of her. Whenever I see her, she always curtseys and asks me how I do, in a very pretty manner; and when you have had her here to do needlework, I observe she always turns the lock of the door the right way and never bangs it. I am sure she will be an excellent servant; and it will be a great comfort to poor Miss Taylor to have somebody about her that she is used to see. Whenever James goes over to see his daughter, you know, she will be hearing of us. He will be able to tell her how we all are.”\\n\\nEmma spared no exertions to maintain this happier flow of ideas, and hoped, by the help of backgammon, to get her father tolerably through the evening, and be attacked by no regrets but her own. The backgammon-table was placed; but a visitor immediately afterwards walked in and made it unnecessary.\\n\\nMr. Knightley, a sensible man about seven or eight-and-thirty, was not only a very old and intimate friend of the family, but particularly connected with it, as the elder brother of Isabella’s husband. He lived about a mile from Highbury, was a frequent visitor, and always welcome, and at this time more welcome than usual, as coming directly from their mutual connexions in London. He had returned to a late dinner, after some days’ absence, and now walked up to Hartfield to say that all were well in Brunswick Square. It was a happy circumstance, and animated Mr. Woodhouse for some time. Mr. Knightley had a cheerful manner, which always did him good; and his many inquiries after “poor Isabella” and her children were answered most satisfactorily. When this was over, Mr. Woodhouse gratefully observed, “It is very kind of you, Mr. Knightley, to come out at this late hour to call upon us. I am afraid you must have had a shocking walk.”\\n\\n“Not at all, sir. It is a beautiful moonlight night; and so mild that I must draw back from your great fire.”\\n\\n“But you must have found it very damp and dirty. I wish you may not catch cold.”\\n\\n“Dirty, sir! Look at my shoes. Not a speck on them.”\\n\\n“Well! that is quite surprising, for we have had a vast deal of rain here. It rained dreadfully hard for half an hour while we were at breakfast. I wanted them to put off the wedding.”\\n\\n“By the bye—I have not wished you joy. Being pretty well aware of what sort of joy you must both be feeling, I have been in no hurry with my congratulations; but I hope it all went off tolerably well. How did you all behave? Who cried most?”\\n\\n“Ah! poor Miss Taylor! ’Tis a sad business.”\\n\\n“Poor Mr. and Miss Woodhouse, if you please; but I cannot possibly say ‘poor Miss Taylor.’ I have a great regard for you and Emma; but when it comes to the question of dependence or independence!—At any rate, it must be better to have only one to please than two.”\\n\\n“Especially when one of those two is such a fanciful, troublesome creature!” said Emma playfully. “That is what you have in your head, I know—and what you would certainly say if my father were not by.”\\n\\n“I believe it is very true, my dear, indeed,” said Mr. Woodhouse, with a sigh. “I am afraid I am sometimes very fanciful and troublesome.”\\n\\n“My dearest papa! You do not think I could mean you, or suppose Mr. Knightley to mean you. What a horrible idea! Oh no! I meant only myself. Mr. Knightley loves to find fault with me, you know—in a joke—it is all a joke. We always say what we like to one another.”\\n\\nMr. Knightley, in fact, was one of the few people who could see faults in Emma Woodhouse, and the only one who ever told her of them: and though this was not particularly agreeable to Emma herself, she knew it would be so much less so to her father, that she would not have him really suspect such a circumstance as her not being thought perfect by every body.\\n\\n“Emma knows I never flatter her,” said Mr. Knightley, “but I meant no reflection on any body. Miss Taylor has been used to have two persons to please; she will now have but one. The chances are that she must be a gainer.”\\n\\n“Well,” said Emma, willing to let it pass—“you want to hear about the wedding; and I shall be happy to tell you, for we all behaved charmingly. Every body was punctual, every body in their best looks: not a tear, and hardly a long face to be seen. Oh no; we all felt that we were going to be only half a mile apart, and were sure of meeting every day.”\\n\\n“Dear Emma bears every thing so well,” said her father. “But, Mr. Knightley, she is really very sorry to lose poor Miss Taylor, and I am sure she will miss her more than she thinks for.”\\n\\nEmma turned away her head, divided between tears and smiles. “It is impossible that Emma should not miss such a companion,” said Mr. Knightley. “We should not like her so well as we do, sir, if we could suppose it; but she knows how much the marriage is to Miss Taylor’s advantage; she knows how very acceptable it must be, at Miss Taylor’s time of life, to be settled in a home of her own, and how important to her to be secure of a comfortable provision, and therefore cannot allow herself to feel so much pain as pleasure. Every friend of Miss Taylor must be glad to have her so happily married.”\\n\\n“And you have forgotten one matter of joy to me,” said Emma, “and a very considerable one—that I made the match myself. I made the match, you know, four years ago; and to have it take place, and be proved in the right, when so many people said Mr. Weston would never marry again, may comfort me for any thing.”\\n\\nMr. Knightley shook his head at her. Her father fondly replied, “Ah! my dear, I wish you would not make matches and foretell things, for whatever you say always comes to pass. Pray do not make any more matches.”\\n\\n“I promise you to make none for myself, papa; but I must, indeed, for other people. It is the greatest amusement in the world! And after such success, you know!—Every body said that Mr. Weston would never marry again. Oh dear, no! Mr. Weston, who had been a widower so long, and who seemed so perfectly comfortable without a wife, so constantly occupied either in his business in town or among his friends here, always acceptable wherever he went, always cheerful—Mr. Weston need not spend a single evening in the year alone if he did not like it. Oh no! Mr. Weston certainly would never marry again. Some people even talked of a promise to his wife on her deathbed, and others of the son and the uncle not letting him. All manner of solemn nonsense was talked on the subject, but I believed none of it.\\n\\n“Ever since the day—about four years ago—that Miss Taylor and I met with him in Broadway Lane, when, because it began to drizzle, he darted away with so much gallantry, and borrowed two umbrellas for us from Farmer Mitchell’s, I made up my mind on the subject. I planned the match from that hour; and when such success has blessed me in this instance, dear papa, you cannot think that I shall leave off match-making.”\\n\\n“I do not understand what you mean by ‘success,’” said Mr. Knightley. “Success supposes endeavour. Your time has been properly and delicately spent, if you have been endeavouring for the last four years to bring about this marriage. A worthy employment for a young lady’s mind! But if, which I rather imagine, your making the match, as you call it, means only your planning it, your saying to yourself one idle day, ‘I think it would be a very good thing for Miss Taylor if Mr. Weston were to marry her,’ and saying it again to yourself every now and then afterwards, why do you talk of success? Where is your merit? What are you proud of? You made a lucky guess; and that is all that can be said.”\\n\\n“And have you never known the pleasure and triumph of a lucky guess?—I pity you.—I thought you cleverer—for, depend upon it a lucky guess is never merely luck. There is always some talent in it. And as to my poor word ‘success,’ which you quarrel with, I do not know that I am so entirely without any claim to it. You have drawn two pretty pictures; but I think there may be a third—a something between the do-nothing and the do-all. If I had not promoted Mr. Weston’s visits here, and given many little encouragements, and smoothed many little matters, it might not have come to any thing after all. I think you must know Hartfield enough to comprehend that.”\\n\\n“A straightforward, open-hearted man like Weston, and a rational, unaffected woman like Miss Taylor, may be safely left to manage their own concerns. You are more likely to have done harm to yourself, than good to them, by interference.”\\n\\n“Emma never thinks of herself, if she can do good to others,” rejoined Mr. Woodhouse, understanding but in part. “But, my dear, pray do not make any more matches; they are silly things, and break up one’s family circle grievously.”\\n\\n“Only one more, papa; only for Mr. Elton. Poor Mr. Elton! You like Mr. Elton, papa,—I must look about for a wife for him. There is nobody in Highbury who deserves him—and he has been here a whole year, and has fitted up his house so comfortably, that it would be a shame to have him single any longer—and I thought when he was joining their hands to-day, he looked so very much as if he would like to have the same kind office done for him! I think very well of Mr. Elton, and this is the only way I have of doing him a service.”\\n\\n“Mr. Elton is a very pretty young man, to be sure, and a very good young man, and I have a great regard for him. But if you want to shew him any attention, my dear, ask him to come and dine with us some day. That will be a much better thing. I dare say Mr. Knightley will be so kind as to meet him.”\\n\\n“With a great deal of pleasure, sir, at any time,” said Mr. Knightley, laughing, “and I agree with you entirely, that it will be a much better thing. Invite him to dinner, Emma, and help him to the best of the fish and the chicken, but leave him to chuse his own wife. Depend upon it, a man of six or seven-and-twenty can take care of himself.”'"
            ]
          },
          "execution_count": 13,
          "metadata": {},
          "output_type": "execute_result"
        }
      ],
      "source": [
        "t_s"
      ]
    },
    {
      "cell_type": "code",
      "execution_count": 12,
      "metadata": {
        "colab": {
          "base_uri": "https://localhost:8080/",
          "height": 280
        },
        "id": "8oVRV4Bn5Rwb",
        "outputId": "67a697b7-e45d-42de-c141-2ea653fca790"
      },
      "outputs": [
        {
          "ename": "TypeError",
          "evalue": "'str' object does not support item assignment",
          "output_type": "error",
          "traceback": [
            "\u001b[0;31m---------------------------------------------------------------------------\u001b[0m",
            "\u001b[0;31mTypeError\u001b[0m                                 Traceback (most recent call last)",
            "\u001b[0;32m<ipython-input-12-1555a28902e3>\u001b[0m in \u001b[0;36m<cell line: 0>\u001b[0;34m()\u001b[0m\n\u001b[0;32m----> 1\u001b[0;31m \u001b[0mtext1_prepared\u001b[0m \u001b[0;34m=\u001b[0m \u001b[0mpreprocessor\u001b[0m\u001b[0;34m.\u001b[0m\u001b[0mmark_paragraphs\u001b[0m\u001b[0;34m(\u001b[0m\u001b[0mt_s\u001b[0m\u001b[0;34m)\u001b[0m\u001b[0;34m\u001b[0m\u001b[0;34m\u001b[0m\u001b[0m\n\u001b[0m\u001b[1;32m      2\u001b[0m \u001b[0mtext2_prepared\u001b[0m \u001b[0;34m=\u001b[0m \u001b[0mpreprocessor\u001b[0m\u001b[0;34m.\u001b[0m\u001b[0mmark_paragraphs\u001b[0m\u001b[0;34m(\u001b[0m\u001b[0mt_t\u001b[0m\u001b[0;34m)\u001b[0m\u001b[0;34m\u001b[0m\u001b[0;34m\u001b[0m\u001b[0m\n",
            "\u001b[0;32m/usr/local/lib/python3.11/dist-packages/lingtrain_aligner/preprocessor.py\u001b[0m in \u001b[0;36mmark_paragraphs\u001b[0;34m(lines)\u001b[0m\n\u001b[1;32m    146\u001b[0m     \u001b[0;32mfor\u001b[0m \u001b[0mi\u001b[0m\u001b[0;34m,\u001b[0m \u001b[0mline\u001b[0m \u001b[0;32min\u001b[0m \u001b[0menumerate\u001b[0m\u001b[0;34m(\u001b[0m\u001b[0mlines\u001b[0m\u001b[0;34m)\u001b[0m\u001b[0;34m:\u001b[0m\u001b[0;34m\u001b[0m\u001b[0;34m\u001b[0m\u001b[0m\n\u001b[1;32m    147\u001b[0m         \u001b[0;32mif\u001b[0m \u001b[0mline\u001b[0m\u001b[0;34m.\u001b[0m\u001b[0mendswith\u001b[0m\u001b[0;34m(\u001b[0m\u001b[0mline_endings\u001b[0m\u001b[0;34m)\u001b[0m\u001b[0;34m:\u001b[0m\u001b[0;34m\u001b[0m\u001b[0;34m\u001b[0m\u001b[0m\n\u001b[0;32m--> 148\u001b[0;31m             \u001b[0mlines\u001b[0m\u001b[0;34m[\u001b[0m\u001b[0mi\u001b[0m\u001b[0;34m]\u001b[0m \u001b[0;34m=\u001b[0m \u001b[0mline\u001b[0m\u001b[0;34m[\u001b[0m\u001b[0;34m:\u001b[0m\u001b[0;34m-\u001b[0m\u001b[0;36m1\u001b[0m\u001b[0;34m]\u001b[0m \u001b[0;34m+\u001b[0m \u001b[0mPARAGRAPH_MARK\u001b[0m \u001b[0;34m+\u001b[0m \u001b[0mline\u001b[0m\u001b[0;34m[\u001b[0m\u001b[0;34m-\u001b[0m\u001b[0;36m1\u001b[0m\u001b[0;34m]\u001b[0m\u001b[0;34m\u001b[0m\u001b[0;34m\u001b[0m\u001b[0m\n\u001b[0m\u001b[1;32m    149\u001b[0m     \u001b[0;32mreturn\u001b[0m \u001b[0mlines\u001b[0m\u001b[0;34m\u001b[0m\u001b[0;34m\u001b[0m\u001b[0m\n",
            "\u001b[0;31mTypeError\u001b[0m: 'str' object does not support item assignment"
          ]
        }
      ],
      "source": [
        "text1_prepared = preprocessor.mark_paragraphs(t_s)\n",
        "text2_prepared = preprocessor.mark_paragraphs(t_t)"
      ]
    },
    {
      "cell_type": "markdown",
      "metadata": {
        "id": "bhqQmsA26AMd"
      },
      "source": [
        "## BERTAlign"
      ]
    },
    {
      "cell_type": "code",
      "execution_count": 16,
      "metadata": {
        "colab": {
          "base_uri": "https://localhost:8080/"
        },
        "id": "kzyRdIbj63rg",
        "outputId": "089ace9b-5522-4081-de74-6925573e663a"
      },
      "outputs": [
        {
          "name": "stdout",
          "output_type": "stream",
          "text": [
            "/root\n"
          ]
        }
      ],
      "source": [
        "cd"
      ]
    },
    {
      "cell_type": "code",
      "execution_count": 19,
      "metadata": {
        "colab": {
          "base_uri": "https://localhost:8080/"
        },
        "id": "YfZIAFgP7AcQ",
        "outputId": "f8901b02-ece0-4a10-fdc1-7ec37a9f463e"
      },
      "outputs": [
        {
          "name": "stdout",
          "output_type": "stream",
          "text": [
            "/\n"
          ]
        }
      ],
      "source": [
        "cd .."
      ]
    },
    {
      "cell_type": "code",
      "execution_count": 7,
      "metadata": {
        "colab": {
          "base_uri": "https://localhost:8080/"
        },
        "id": "3UG2GE8s6r5G",
        "outputId": "025f8579-055a-4aa4-b594-ec46fe49eaa4"
      },
      "outputs": [
        {
          "name": "stdout",
          "output_type": "stream",
          "text": [
            "Cloning into 'bertalign'...\n",
            "remote: Enumerating objects: 1160, done.\u001b[K\n",
            "remote: Counting objects: 100% (44/44), done.\u001b[K\n",
            "remote: Compressing objects: 100% (17/17), done.\u001b[K\n",
            "remote: Total 1160 (delta 33), reused 27 (delta 27), pack-reused 1116 (from 2)\u001b[K\n",
            "Receiving objects: 100% (1160/1160), 303.20 MiB | 17.33 MiB/s, done.\n",
            "Resolving deltas: 100% (428/428), done.\n"
          ]
        }
      ],
      "source": [
        "!git clone https://github.com/bfsujason/bertalign"
      ]
    },
    {
      "cell_type": "code",
      "execution_count": 4,
      "metadata": {
        "colab": {
          "base_uri": "https://localhost:8080/"
        },
        "id": "QK7K9JuW66TQ",
        "outputId": "7e6992f2-c44e-4e82-860c-5ff1adaa2bc7"
      },
      "outputs": [
        {
          "name": "stdout",
          "output_type": "stream",
          "text": [
            "/content/bertalign\n"
          ]
        }
      ],
      "source": [
        "cd bertalign"
      ]
    },
    {
      "cell_type": "code",
      "execution_count": 13,
      "metadata": {
        "colab": {
          "base_uri": "https://localhost:8080/",
          "height": 1000
        },
        "id": "BuaIAriX7NLj",
        "outputId": "669b8a41-0757-4725-87ff-185222cf34cb"
      },
      "outputs": [
        {
          "name": "stdout",
          "output_type": "stream",
          "text": [
            "Collecting numba==0.60.0 (from -r requirements.txt (line 1))\n",
            "  Using cached numba-0.60.0-cp311-cp311-manylinux2014_x86_64.manylinux_2_17_x86_64.whl.metadata (2.7 kB)\n",
            "Requirement already satisfied: faiss-cpu==1.7.4 in /usr/local/lib/python3.11/dist-packages (from -r requirements.txt (line 2)) (1.7.4)\n",
            "Collecting googletrans==4.0.0rc1 (from -r requirements.txt (line 4))\n",
            "  Downloading googletrans-4.0.0rc1.tar.gz (20 kB)\n",
            "  Preparing metadata (setup.py) ... \u001b[?25l\u001b[?25hdone\n",
            "Collecting sentence-splitter==1.4 (from -r requirements.txt (line 5))\n",
            "  Downloading sentence_splitter-1.4-py2.py3-none-any.whl.metadata (2.8 kB)\n",
            "Collecting sentence-transformers==3.2.1 (from -r requirements.txt (line 6))\n",
            "  Downloading sentence_transformers-3.2.1-py3-none-any.whl.metadata (10 kB)\n",
            "Collecting llvmlite<0.44,>=0.43.0dev0 (from numba==0.60.0->-r requirements.txt (line 1))\n",
            "  Downloading llvmlite-0.43.0-cp311-cp311-manylinux_2_17_x86_64.manylinux2014_x86_64.whl.metadata (4.8 kB)\n",
            "Requirement already satisfied: numpy<2.1,>=1.22 in /usr/local/lib/python3.11/dist-packages (from numba==0.60.0->-r requirements.txt (line 1)) (1.26.4)\n",
            "Collecting httpx==0.13.3 (from googletrans==4.0.0rc1->-r requirements.txt (line 4))\n",
            "  Downloading httpx-0.13.3-py3-none-any.whl.metadata (25 kB)\n",
            "Requirement already satisfied: regex>=2017.12.12 in /usr/local/lib/python3.11/dist-packages (from sentence-splitter==1.4->-r requirements.txt (line 5)) (2024.11.6)\n",
            "Requirement already satisfied: transformers<5.0.0,>=4.41.0 in /usr/local/lib/python3.11/dist-packages (from sentence-transformers==3.2.1->-r requirements.txt (line 6)) (4.48.2)\n",
            "Requirement already satisfied: tqdm in /usr/local/lib/python3.11/dist-packages (from sentence-transformers==3.2.1->-r requirements.txt (line 6)) (4.67.1)\n",
            "Requirement already satisfied: torch>=1.11.0 in /usr/local/lib/python3.11/dist-packages (from sentence-transformers==3.2.1->-r requirements.txt (line 6)) (2.5.1+cu124)\n",
            "Requirement already satisfied: scikit-learn in /usr/local/lib/python3.11/dist-packages (from sentence-transformers==3.2.1->-r requirements.txt (line 6)) (1.6.1)\n",
            "Requirement already satisfied: scipy in /usr/local/lib/python3.11/dist-packages (from sentence-transformers==3.2.1->-r requirements.txt (line 6)) (1.13.1)\n",
            "Requirement already satisfied: huggingface-hub>=0.20.0 in /usr/local/lib/python3.11/dist-packages (from sentence-transformers==3.2.1->-r requirements.txt (line 6)) (0.28.1)\n",
            "Requirement already satisfied: Pillow in /usr/local/lib/python3.11/dist-packages (from sentence-transformers==3.2.1->-r requirements.txt (line 6)) (11.1.0)\n",
            "Requirement already satisfied: certifi in /usr/local/lib/python3.11/dist-packages (from httpx==0.13.3->googletrans==4.0.0rc1->-r requirements.txt (line 4)) (2025.1.31)\n",
            "Collecting hstspreload (from httpx==0.13.3->googletrans==4.0.0rc1->-r requirements.txt (line 4))\n",
            "  Downloading hstspreload-2025.1.1-py3-none-any.whl.metadata (2.1 kB)\n",
            "Requirement already satisfied: sniffio in /usr/local/lib/python3.11/dist-packages (from httpx==0.13.3->googletrans==4.0.0rc1->-r requirements.txt (line 4)) (1.3.1)\n",
            "Collecting chardet==3.* (from httpx==0.13.3->googletrans==4.0.0rc1->-r requirements.txt (line 4))\n",
            "  Downloading chardet-3.0.4-py2.py3-none-any.whl.metadata (3.2 kB)\n",
            "Collecting idna==2.* (from httpx==0.13.3->googletrans==4.0.0rc1->-r requirements.txt (line 4))\n",
            "  Downloading idna-2.10-py2.py3-none-any.whl.metadata (9.1 kB)\n",
            "Collecting rfc3986<2,>=1.3 (from httpx==0.13.3->googletrans==4.0.0rc1->-r requirements.txt (line 4))\n",
            "  Downloading rfc3986-1.5.0-py2.py3-none-any.whl.metadata (6.5 kB)\n",
            "Collecting httpcore==0.9.* (from httpx==0.13.3->googletrans==4.0.0rc1->-r requirements.txt (line 4))\n",
            "  Downloading httpcore-0.9.1-py3-none-any.whl.metadata (4.6 kB)\n",
            "Collecting h11<0.10,>=0.8 (from httpcore==0.9.*->httpx==0.13.3->googletrans==4.0.0rc1->-r requirements.txt (line 4))\n",
            "  Downloading h11-0.9.0-py2.py3-none-any.whl.metadata (8.1 kB)\n",
            "Collecting h2==3.* (from httpcore==0.9.*->httpx==0.13.3->googletrans==4.0.0rc1->-r requirements.txt (line 4))\n",
            "  Downloading h2-3.2.0-py2.py3-none-any.whl.metadata (32 kB)\n",
            "Collecting hyperframe<6,>=5.2.0 (from h2==3.*->httpcore==0.9.*->httpx==0.13.3->googletrans==4.0.0rc1->-r requirements.txt (line 4))\n",
            "  Downloading hyperframe-5.2.0-py2.py3-none-any.whl.metadata (7.2 kB)\n",
            "Collecting hpack<4,>=3.0 (from h2==3.*->httpcore==0.9.*->httpx==0.13.3->googletrans==4.0.0rc1->-r requirements.txt (line 4))\n",
            "  Downloading hpack-3.0.0-py2.py3-none-any.whl.metadata (7.0 kB)\n",
            "Requirement already satisfied: filelock in /usr/local/lib/python3.11/dist-packages (from huggingface-hub>=0.20.0->sentence-transformers==3.2.1->-r requirements.txt (line 6)) (3.17.0)\n",
            "Requirement already satisfied: fsspec>=2023.5.0 in /usr/local/lib/python3.11/dist-packages (from huggingface-hub>=0.20.0->sentence-transformers==3.2.1->-r requirements.txt (line 6)) (2024.10.0)\n",
            "Requirement already satisfied: packaging>=20.9 in /usr/local/lib/python3.11/dist-packages (from huggingface-hub>=0.20.0->sentence-transformers==3.2.1->-r requirements.txt (line 6)) (24.2)\n",
            "Requirement already satisfied: pyyaml>=5.1 in /usr/local/lib/python3.11/dist-packages (from huggingface-hub>=0.20.0->sentence-transformers==3.2.1->-r requirements.txt (line 6)) (6.0.2)\n",
            "Requirement already satisfied: requests in /usr/local/lib/python3.11/dist-packages (from huggingface-hub>=0.20.0->sentence-transformers==3.2.1->-r requirements.txt (line 6)) (2.32.3)\n",
            "Requirement already satisfied: typing-extensions>=3.7.4.3 in /usr/local/lib/python3.11/dist-packages (from huggingface-hub>=0.20.0->sentence-transformers==3.2.1->-r requirements.txt (line 6)) (4.12.2)\n",
            "Requirement already satisfied: networkx in /usr/local/lib/python3.11/dist-packages (from torch>=1.11.0->sentence-transformers==3.2.1->-r requirements.txt (line 6)) (3.4.2)\n",
            "Requirement already satisfied: jinja2 in /usr/local/lib/python3.11/dist-packages (from torch>=1.11.0->sentence-transformers==3.2.1->-r requirements.txt (line 6)) (3.1.5)\n",
            "Collecting nvidia-cuda-nvrtc-cu12==12.4.127 (from torch>=1.11.0->sentence-transformers==3.2.1->-r requirements.txt (line 6))\n",
            "  Downloading nvidia_cuda_nvrtc_cu12-12.4.127-py3-none-manylinux2014_x86_64.whl.metadata (1.5 kB)\n",
            "Collecting nvidia-cuda-runtime-cu12==12.4.127 (from torch>=1.11.0->sentence-transformers==3.2.1->-r requirements.txt (line 6))\n",
            "  Downloading nvidia_cuda_runtime_cu12-12.4.127-py3-none-manylinux2014_x86_64.whl.metadata (1.5 kB)\n",
            "Collecting nvidia-cuda-cupti-cu12==12.4.127 (from torch>=1.11.0->sentence-transformers==3.2.1->-r requirements.txt (line 6))\n",
            "  Downloading nvidia_cuda_cupti_cu12-12.4.127-py3-none-manylinux2014_x86_64.whl.metadata (1.6 kB)\n",
            "Collecting nvidia-cudnn-cu12==9.1.0.70 (from torch>=1.11.0->sentence-transformers==3.2.1->-r requirements.txt (line 6))\n",
            "  Downloading nvidia_cudnn_cu12-9.1.0.70-py3-none-manylinux2014_x86_64.whl.metadata (1.6 kB)\n",
            "Collecting nvidia-cublas-cu12==12.4.5.8 (from torch>=1.11.0->sentence-transformers==3.2.1->-r requirements.txt (line 6))\n",
            "  Downloading nvidia_cublas_cu12-12.4.5.8-py3-none-manylinux2014_x86_64.whl.metadata (1.5 kB)\n",
            "Collecting nvidia-cufft-cu12==11.2.1.3 (from torch>=1.11.0->sentence-transformers==3.2.1->-r requirements.txt (line 6))\n",
            "  Downloading nvidia_cufft_cu12-11.2.1.3-py3-none-manylinux2014_x86_64.whl.metadata (1.5 kB)\n",
            "Collecting nvidia-curand-cu12==10.3.5.147 (from torch>=1.11.0->sentence-transformers==3.2.1->-r requirements.txt (line 6))\n",
            "  Downloading nvidia_curand_cu12-10.3.5.147-py3-none-manylinux2014_x86_64.whl.metadata (1.5 kB)\n",
            "Collecting nvidia-cusolver-cu12==11.6.1.9 (from torch>=1.11.0->sentence-transformers==3.2.1->-r requirements.txt (line 6))\n",
            "  Downloading nvidia_cusolver_cu12-11.6.1.9-py3-none-manylinux2014_x86_64.whl.metadata (1.6 kB)\n",
            "Collecting nvidia-cusparse-cu12==12.3.1.170 (from torch>=1.11.0->sentence-transformers==3.2.1->-r requirements.txt (line 6))\n",
            "  Downloading nvidia_cusparse_cu12-12.3.1.170-py3-none-manylinux2014_x86_64.whl.metadata (1.6 kB)\n",
            "Requirement already satisfied: nvidia-nccl-cu12==2.21.5 in /usr/local/lib/python3.11/dist-packages (from torch>=1.11.0->sentence-transformers==3.2.1->-r requirements.txt (line 6)) (2.21.5)\n",
            "Requirement already satisfied: nvidia-nvtx-cu12==12.4.127 in /usr/local/lib/python3.11/dist-packages (from torch>=1.11.0->sentence-transformers==3.2.1->-r requirements.txt (line 6)) (12.4.127)\n",
            "Collecting nvidia-nvjitlink-cu12==12.4.127 (from torch>=1.11.0->sentence-transformers==3.2.1->-r requirements.txt (line 6))\n",
            "  Downloading nvidia_nvjitlink_cu12-12.4.127-py3-none-manylinux2014_x86_64.whl.metadata (1.5 kB)\n",
            "Requirement already satisfied: triton==3.1.0 in /usr/local/lib/python3.11/dist-packages (from torch>=1.11.0->sentence-transformers==3.2.1->-r requirements.txt (line 6)) (3.1.0)\n",
            "Requirement already satisfied: sympy==1.13.1 in /usr/local/lib/python3.11/dist-packages (from torch>=1.11.0->sentence-transformers==3.2.1->-r requirements.txt (line 6)) (1.13.1)\n",
            "Requirement already satisfied: mpmath<1.4,>=1.1.0 in /usr/local/lib/python3.11/dist-packages (from sympy==1.13.1->torch>=1.11.0->sentence-transformers==3.2.1->-r requirements.txt (line 6)) (1.3.0)\n",
            "Requirement already satisfied: tokenizers<0.22,>=0.21 in /usr/local/lib/python3.11/dist-packages (from transformers<5.0.0,>=4.41.0->sentence-transformers==3.2.1->-r requirements.txt (line 6)) (0.21.0)\n",
            "Requirement already satisfied: safetensors>=0.4.1 in /usr/local/lib/python3.11/dist-packages (from transformers<5.0.0,>=4.41.0->sentence-transformers==3.2.1->-r requirements.txt (line 6)) (0.5.2)\n",
            "Requirement already satisfied: joblib>=1.2.0 in /usr/local/lib/python3.11/dist-packages (from scikit-learn->sentence-transformers==3.2.1->-r requirements.txt (line 6)) (1.4.2)\n",
            "Requirement already satisfied: threadpoolctl>=3.1.0 in /usr/local/lib/python3.11/dist-packages (from scikit-learn->sentence-transformers==3.2.1->-r requirements.txt (line 6)) (3.5.0)\n",
            "Requirement already satisfied: MarkupSafe>=2.0 in /usr/local/lib/python3.11/dist-packages (from jinja2->torch>=1.11.0->sentence-transformers==3.2.1->-r requirements.txt (line 6)) (3.0.2)\n",
            "Requirement already satisfied: charset-normalizer<4,>=2 in /usr/local/lib/python3.11/dist-packages (from requests->huggingface-hub>=0.20.0->sentence-transformers==3.2.1->-r requirements.txt (line 6)) (3.4.1)\n",
            "Requirement already satisfied: urllib3<3,>=1.21.1 in /usr/local/lib/python3.11/dist-packages (from requests->huggingface-hub>=0.20.0->sentence-transformers==3.2.1->-r requirements.txt (line 6)) (2.3.0)\n",
            "Downloading numba-0.60.0-cp311-cp311-manylinux2014_x86_64.manylinux_2_17_x86_64.whl (3.7 MB)\n",
            "\u001b[2K   \u001b[90m━━━━━━━━━━━━━━━━━━━━━━━━━━━━━━━━━━━━━━━━\u001b[0m \u001b[32m3.7/3.7 MB\u001b[0m \u001b[31m48.4 MB/s\u001b[0m eta \u001b[36m0:00:00\u001b[0m\n",
            "\u001b[?25hDownloading sentence_splitter-1.4-py2.py3-none-any.whl (44 kB)\n",
            "\u001b[2K   \u001b[90m━━━━━━━━━━━━━━━━━━━━━━━━━━━━━━━━━━━━━━━━\u001b[0m \u001b[32m45.0/45.0 kB\u001b[0m \u001b[31m3.6 MB/s\u001b[0m eta \u001b[36m0:00:00\u001b[0m\n",
            "\u001b[?25hDownloading sentence_transformers-3.2.1-py3-none-any.whl (255 kB)\n",
            "\u001b[2K   \u001b[90m━━━━━━━━━━━━━━━━━━━━━━━━━━━━━━━━━━━━━━━━\u001b[0m \u001b[32m255.8/255.8 kB\u001b[0m \u001b[31m18.4 MB/s\u001b[0m eta \u001b[36m0:00:00\u001b[0m\n",
            "\u001b[?25hDownloading httpx-0.13.3-py3-none-any.whl (55 kB)\n",
            "\u001b[2K   \u001b[90m━━━━━━━━━━━━━━━━━━━━━━━━━━━━━━━━━━━━━━━━\u001b[0m \u001b[32m55.1/55.1 kB\u001b[0m \u001b[31m5.0 MB/s\u001b[0m eta \u001b[36m0:00:00\u001b[0m\n",
            "\u001b[?25hDownloading chardet-3.0.4-py2.py3-none-any.whl (133 kB)\n",
            "\u001b[2K   \u001b[90m━━━━━━━━━━━━━━━━━━━━━━━━━━━━━━━━━━━━━━━━\u001b[0m \u001b[32m133.4/133.4 kB\u001b[0m \u001b[31m10.9 MB/s\u001b[0m eta \u001b[36m0:00:00\u001b[0m\n",
            "\u001b[?25hDownloading httpcore-0.9.1-py3-none-any.whl (42 kB)\n",
            "\u001b[2K   \u001b[90m━━━━━━━━━━━━━━━━━━━━━━━━━━━━━━━━━━━━━━━━\u001b[0m \u001b[32m42.6/42.6 kB\u001b[0m \u001b[31m3.6 MB/s\u001b[0m eta \u001b[36m0:00:00\u001b[0m\n",
            "\u001b[?25hDownloading idna-2.10-py2.py3-none-any.whl (58 kB)\n",
            "\u001b[2K   \u001b[90m━━━━━━━━━━━━━━━━━━━━━━━━━━━━━━━━━━━━━━━━\u001b[0m \u001b[32m58.8/58.8 kB\u001b[0m \u001b[31m5.4 MB/s\u001b[0m eta \u001b[36m0:00:00\u001b[0m\n",
            "\u001b[?25hDownloading h2-3.2.0-py2.py3-none-any.whl (65 kB)\n",
            "\u001b[2K   \u001b[90m━━━━━━━━━━━━━━━━━━━━━━━━━━━━━━━━━━━━━━━━\u001b[0m \u001b[32m65.0/65.0 kB\u001b[0m \u001b[31m5.8 MB/s\u001b[0m eta \u001b[36m0:00:00\u001b[0m\n",
            "\u001b[?25hDownloading llvmlite-0.43.0-cp311-cp311-manylinux_2_17_x86_64.manylinux2014_x86_64.whl (43.9 MB)\n",
            "\u001b[2K   \u001b[90m━━━━━━━━━━━━━━━━━━━━━━━━━━━━━━━━━━━━━━━━\u001b[0m \u001b[32m43.9/43.9 MB\u001b[0m \u001b[31m10.5 MB/s\u001b[0m eta \u001b[36m0:00:00\u001b[0m\n",
            "\u001b[?25hDownloading nvidia_cublas_cu12-12.4.5.8-py3-none-manylinux2014_x86_64.whl (363.4 MB)\n",
            "\u001b[2K   \u001b[90m━━━━━━━━━━━━━━━━━━━━━━━━━━━━━━━━━━━━━━━━\u001b[0m \u001b[32m363.4/363.4 MB\u001b[0m \u001b[31m1.5 MB/s\u001b[0m eta \u001b[36m0:00:00\u001b[0m\n",
            "\u001b[?25hDownloading nvidia_cuda_cupti_cu12-12.4.127-py3-none-manylinux2014_x86_64.whl (13.8 MB)\n",
            "\u001b[2K   \u001b[90m━━━━━━━━━━━━━━━━━━━━━━━━━━━━━━━━━━━━━━━━\u001b[0m \u001b[32m13.8/13.8 MB\u001b[0m \u001b[31m89.8 MB/s\u001b[0m eta \u001b[36m0:00:00\u001b[0m\n",
            "\u001b[?25hDownloading nvidia_cuda_nvrtc_cu12-12.4.127-py3-none-manylinux2014_x86_64.whl (24.6 MB)\n",
            "\u001b[2K   \u001b[90m━━━━━━━━━━━━━━━━━━━━━━━━━━━━━━━━━━━━━━━━\u001b[0m \u001b[32m24.6/24.6 MB\u001b[0m \u001b[31m71.2 MB/s\u001b[0m eta \u001b[36m0:00:00\u001b[0m\n",
            "\u001b[?25hDownloading nvidia_cuda_runtime_cu12-12.4.127-py3-none-manylinux2014_x86_64.whl (883 kB)\n",
            "\u001b[2K   \u001b[90m━━━━━━━━━━━━━━━━━━━━━━━━━━━━━━━━━━━━━━━━\u001b[0m \u001b[32m883.7/883.7 kB\u001b[0m \u001b[31m45.4 MB/s\u001b[0m eta \u001b[36m0:00:00\u001b[0m\n",
            "\u001b[?25hDownloading nvidia_cudnn_cu12-9.1.0.70-py3-none-manylinux2014_x86_64.whl (664.8 MB)\n",
            "\u001b[2K   \u001b[90m━━━━━━━━━━━━━━━━━━━━━━━━━━━━━━━━━━━━━━━━\u001b[0m \u001b[32m664.8/664.8 MB\u001b[0m \u001b[31m1.3 MB/s\u001b[0m eta \u001b[36m0:00:00\u001b[0m\n",
            "\u001b[?25hDownloading nvidia_cufft_cu12-11.2.1.3-py3-none-manylinux2014_x86_64.whl (211.5 MB)\n",
            "\u001b[2K   \u001b[90m━━━━━━━━━━━━━━━━━━━━━━━━━━━━━━━━━━━━━━━━\u001b[0m \u001b[32m211.5/211.5 MB\u001b[0m \u001b[31m5.7 MB/s\u001b[0m eta \u001b[36m0:00:00\u001b[0m\n",
            "\u001b[?25hDownloading nvidia_curand_cu12-10.3.5.147-py3-none-manylinux2014_x86_64.whl (56.3 MB)\n",
            "\u001b[2K   \u001b[90m━━━━━━━━━━━━━━━━━━━━━━━━━━━━━━━━━━━━━━━━\u001b[0m \u001b[32m56.3/56.3 MB\u001b[0m \u001b[31m13.1 MB/s\u001b[0m eta \u001b[36m0:00:00\u001b[0m\n",
            "\u001b[?25hDownloading nvidia_cusolver_cu12-11.6.1.9-py3-none-manylinux2014_x86_64.whl (127.9 MB)\n",
            "\u001b[2K   \u001b[90m━━━━━━━━━━━━━━━━━━━━━━━━━━━━━━━━━━━━━━━━\u001b[0m \u001b[32m127.9/127.9 MB\u001b[0m \u001b[31m7.3 MB/s\u001b[0m eta \u001b[36m0:00:00\u001b[0m\n",
            "\u001b[?25hDownloading nvidia_cusparse_cu12-12.3.1.170-py3-none-manylinux2014_x86_64.whl (207.5 MB)\n",
            "\u001b[2K   \u001b[90m━━━━━━━━━━━━━━━━━━━━━━━━━━━━━━━━━━━━━━━━\u001b[0m \u001b[32m207.5/207.5 MB\u001b[0m \u001b[31m2.9 MB/s\u001b[0m eta \u001b[36m0:00:00\u001b[0m\n",
            "\u001b[?25hDownloading nvidia_nvjitlink_cu12-12.4.127-py3-none-manylinux2014_x86_64.whl (21.1 MB)\n",
            "\u001b[2K   \u001b[90m━━━━━━━━━━━━━━━━━━━━━━━━━━━━━━━━━━━━━━━━\u001b[0m \u001b[32m21.1/21.1 MB\u001b[0m \u001b[31m84.5 MB/s\u001b[0m eta \u001b[36m0:00:00\u001b[0m\n",
            "\u001b[?25hDownloading rfc3986-1.5.0-py2.py3-none-any.whl (31 kB)\n",
            "Downloading hstspreload-2025.1.1-py3-none-any.whl (1.3 MB)\n",
            "\u001b[2K   \u001b[90m━━━━━━━━━━━━━━━━━━━━━━━━━━━━━━━━━━━━━━━━\u001b[0m \u001b[32m1.3/1.3 MB\u001b[0m \u001b[31m63.0 MB/s\u001b[0m eta \u001b[36m0:00:00\u001b[0m\n",
            "\u001b[?25hDownloading h11-0.9.0-py2.py3-none-any.whl (53 kB)\n",
            "\u001b[2K   \u001b[90m━━━━━━━━━━━━━━━━━━━━━━━━━━━━━━━━━━━━━━━━\u001b[0m \u001b[32m53.6/53.6 kB\u001b[0m \u001b[31m4.6 MB/s\u001b[0m eta \u001b[36m0:00:00\u001b[0m\n",
            "\u001b[?25hDownloading hpack-3.0.0-py2.py3-none-any.whl (38 kB)\n",
            "Downloading hyperframe-5.2.0-py2.py3-none-any.whl (12 kB)\n",
            "Building wheels for collected packages: googletrans\n",
            "  Building wheel for googletrans (setup.py) ... \u001b[?25l\u001b[?25hdone\n",
            "  Created wheel for googletrans: filename=googletrans-4.0.0rc1-py3-none-any.whl size=17397 sha256=ace929056fca72479609a37138bb3de743c39e49c4549b9908c13ff605b1eee5\n",
            "  Stored in directory: /root/.cache/pip/wheels/39/17/6f/66a045ea3d168826074691b4b787b8f324d3f646d755443fda\n",
            "Successfully built googletrans\n",
            "Installing collected packages: rfc3986, hyperframe, hpack, h11, chardet, sentence-splitter, nvidia-nvjitlink-cu12, nvidia-curand-cu12, nvidia-cufft-cu12, nvidia-cuda-runtime-cu12, nvidia-cuda-nvrtc-cu12, nvidia-cuda-cupti-cu12, nvidia-cublas-cu12, llvmlite, idna, hstspreload, h2, nvidia-cusparse-cu12, nvidia-cudnn-cu12, numba, httpcore, nvidia-cusolver-cu12, httpx, googletrans, sentence-transformers\n",
            "  Attempting uninstall: h11\n",
            "    Found existing installation: h11 0.14.0\n",
            "    Uninstalling h11-0.14.0:\n",
            "      Successfully uninstalled h11-0.14.0\n",
            "  Attempting uninstall: chardet\n",
            "    Found existing installation: chardet 5.2.0\n",
            "    Uninstalling chardet-5.2.0:\n",
            "      Successfully uninstalled chardet-5.2.0\n",
            "  Attempting uninstall: nvidia-nvjitlink-cu12\n",
            "    Found existing installation: nvidia-nvjitlink-cu12 12.5.82\n",
            "    Uninstalling nvidia-nvjitlink-cu12-12.5.82:\n",
            "      Successfully uninstalled nvidia-nvjitlink-cu12-12.5.82\n",
            "  Attempting uninstall: nvidia-curand-cu12\n",
            "    Found existing installation: nvidia-curand-cu12 10.3.6.82\n",
            "    Uninstalling nvidia-curand-cu12-10.3.6.82:\n",
            "      Successfully uninstalled nvidia-curand-cu12-10.3.6.82\n",
            "  Attempting uninstall: nvidia-cufft-cu12\n",
            "    Found existing installation: nvidia-cufft-cu12 11.2.3.61\n",
            "    Uninstalling nvidia-cufft-cu12-11.2.3.61:\n",
            "      Successfully uninstalled nvidia-cufft-cu12-11.2.3.61\n",
            "  Attempting uninstall: nvidia-cuda-runtime-cu12\n",
            "    Found existing installation: nvidia-cuda-runtime-cu12 12.5.82\n",
            "    Uninstalling nvidia-cuda-runtime-cu12-12.5.82:\n",
            "      Successfully uninstalled nvidia-cuda-runtime-cu12-12.5.82\n",
            "  Attempting uninstall: nvidia-cuda-nvrtc-cu12\n",
            "    Found existing installation: nvidia-cuda-nvrtc-cu12 12.5.82\n",
            "    Uninstalling nvidia-cuda-nvrtc-cu12-12.5.82:\n",
            "      Successfully uninstalled nvidia-cuda-nvrtc-cu12-12.5.82\n",
            "  Attempting uninstall: nvidia-cuda-cupti-cu12\n",
            "    Found existing installation: nvidia-cuda-cupti-cu12 12.5.82\n",
            "    Uninstalling nvidia-cuda-cupti-cu12-12.5.82:\n",
            "      Successfully uninstalled nvidia-cuda-cupti-cu12-12.5.82\n",
            "  Attempting uninstall: nvidia-cublas-cu12\n",
            "    Found existing installation: nvidia-cublas-cu12 12.5.3.2\n",
            "    Uninstalling nvidia-cublas-cu12-12.5.3.2:\n",
            "      Successfully uninstalled nvidia-cublas-cu12-12.5.3.2\n",
            "  Attempting uninstall: llvmlite\n",
            "    Found existing installation: llvmlite 0.44.0\n",
            "    Uninstalling llvmlite-0.44.0:\n",
            "      Successfully uninstalled llvmlite-0.44.0\n",
            "  Attempting uninstall: idna\n",
            "    Found existing installation: idna 3.10\n",
            "    Uninstalling idna-3.10:\n",
            "      Successfully uninstalled idna-3.10\n",
            "  Attempting uninstall: nvidia-cusparse-cu12\n",
            "    Found existing installation: nvidia-cusparse-cu12 12.5.1.3\n",
            "    Uninstalling nvidia-cusparse-cu12-12.5.1.3:\n",
            "      Successfully uninstalled nvidia-cusparse-cu12-12.5.1.3\n",
            "  Attempting uninstall: nvidia-cudnn-cu12\n",
            "    Found existing installation: nvidia-cudnn-cu12 9.3.0.75\n",
            "    Uninstalling nvidia-cudnn-cu12-9.3.0.75:\n",
            "      Successfully uninstalled nvidia-cudnn-cu12-9.3.0.75\n",
            "  Attempting uninstall: numba\n",
            "    Found existing installation: numba 0.61.0\n",
            "    Uninstalling numba-0.61.0:\n",
            "      Successfully uninstalled numba-0.61.0\n",
            "  Attempting uninstall: httpcore\n",
            "    Found existing installation: httpcore 1.0.7\n",
            "    Uninstalling httpcore-1.0.7:\n",
            "      Successfully uninstalled httpcore-1.0.7\n",
            "  Attempting uninstall: nvidia-cusolver-cu12\n",
            "    Found existing installation: nvidia-cusolver-cu12 11.6.3.83\n",
            "    Uninstalling nvidia-cusolver-cu12-11.6.3.83:\n",
            "      Successfully uninstalled nvidia-cusolver-cu12-11.6.3.83\n",
            "  Attempting uninstall: httpx\n",
            "    Found existing installation: httpx 0.28.1\n",
            "    Uninstalling httpx-0.28.1:\n",
            "      Successfully uninstalled httpx-0.28.1\n",
            "  Attempting uninstall: sentence-transformers\n",
            "    Found existing installation: sentence-transformers 3.4.1\n",
            "    Uninstalling sentence-transformers-3.4.1:\n",
            "      Successfully uninstalled sentence-transformers-3.4.1\n",
            "\u001b[31mERROR: pip's dependency resolver does not currently take into account all the packages that are installed. This behaviour is the source of the following dependency conflicts.\n",
            "openai 1.61.1 requires httpx<1,>=0.23.0, but you have httpx 0.13.3 which is incompatible.\n",
            "langsmith 0.3.6 requires httpx<1,>=0.23.0, but you have httpx 0.13.3 which is incompatible.\u001b[0m\u001b[31m\n",
            "\u001b[0mSuccessfully installed chardet-3.0.4 googletrans-4.0.0rc1 h11-0.9.0 h2-3.2.0 hpack-3.0.0 hstspreload-2025.1.1 httpcore-0.9.1 httpx-0.13.3 hyperframe-5.2.0 idna-2.10 llvmlite-0.43.0 numba-0.60.0 nvidia-cublas-cu12-12.4.5.8 nvidia-cuda-cupti-cu12-12.4.127 nvidia-cuda-nvrtc-cu12-12.4.127 nvidia-cuda-runtime-cu12-12.4.127 nvidia-cudnn-cu12-9.1.0.70 nvidia-cufft-cu12-11.2.1.3 nvidia-curand-cu12-10.3.5.147 nvidia-cusolver-cu12-11.6.1.9 nvidia-cusparse-cu12-12.3.1.170 nvidia-nvjitlink-cu12-12.4.127 rfc3986-1.5.0 sentence-splitter-1.4 sentence-transformers-3.2.1\n"
          ]
        },
        {
          "data": {
            "application/vnd.colab-display-data+json": {
              "id": "ecdeadaba5df439db77ec64ba33eb825",
              "pip_warning": {
                "packages": [
                  "chardet",
                  "idna",
                  "sentence_transformers"
                ]
              }
            }
          },
          "metadata": {},
          "output_type": "display_data"
        }
      ],
      "source": [
        "!pip install -r requirements.txt"
      ]
    },
    {
      "cell_type": "code",
      "execution_count": 11,
      "metadata": {
        "colab": {
          "base_uri": "https://localhost:8080/"
        },
        "id": "yT1iuqQmCIJ-",
        "outputId": "b3b2d152-6224-4b97-9fc0-92cb83753104"
      },
      "outputs": [
        {
          "name": "stdout",
          "output_type": "stream",
          "text": [
            "Collecting faiss-cpu==1.7.4\n",
            "  Downloading faiss_cpu-1.7.4-cp311-cp311-manylinux_2_17_x86_64.manylinux2014_x86_64.whl.metadata (1.3 kB)\n",
            "Downloading faiss_cpu-1.7.4-cp311-cp311-manylinux_2_17_x86_64.manylinux2014_x86_64.whl (17.6 MB)\n",
            "\u001b[2K   \u001b[90m━━━━━━━━━━━━━━━━━━━━━━━━━━━━━━━━━━━━━━━━\u001b[0m \u001b[32m17.6/17.6 MB\u001b[0m \u001b[31m43.8 MB/s\u001b[0m eta \u001b[36m0:00:00\u001b[0m\n",
            "\u001b[?25hInstalling collected packages: faiss-cpu\n",
            "Successfully installed faiss-cpu-1.7.4\n"
          ]
        }
      ],
      "source": [
        "!pip install faiss-cpu==1.7.4\n"
      ]
    },
    {
      "cell_type": "code",
      "execution_count": null,
      "metadata": {
        "id": "xiFMhE4j9TeA"
      },
      "outputs": [],
      "source": [
        "!pip install faiss-gpu --upgrade --no-cache-dir\n"
      ]
    },
    {
      "cell_type": "code",
      "execution_count": 16,
      "metadata": {
        "colab": {
          "base_uri": "https://localhost:8080/"
        },
        "id": "UgI_aZ15KK8L",
        "outputId": "dfd725b4-761e-4650-eeee-6463208e826c"
      },
      "outputs": [
        {
          "name": "stdout",
          "output_type": "stream",
          "text": [
            "/content/lol\n"
          ]
        }
      ],
      "source": [
        "cd lol"
      ]
    },
    {
      "cell_type": "code",
      "execution_count": 18,
      "metadata": {
        "colab": {
          "base_uri": "https://localhost:8080/"
        },
        "id": "qj1w4fRUKpmD",
        "outputId": "4cdc210f-6d25-49af-9ad6-8f5e272a12d2"
      },
      "outputs": [
        {
          "name": "stderr",
          "output_type": "stream",
          "text": [
            "/usr/local/lib/python3.11/dist-packages/sentence_transformers/cross_encoder/CrossEncoder.py:13: TqdmExperimentalWarning: Using `tqdm.autonotebook.tqdm` in notebook mode. Use `tqdm.tqdm` instead to force console mode (e.g. in jupyter console)\n",
            "  from tqdm.autonotebook import tqdm, trange\n",
            "/usr/local/lib/python3.11/dist-packages/huggingface_hub/utils/_auth.py:94: UserWarning: \n",
            "The secret `HF_TOKEN` does not exist in your Colab secrets.\n",
            "To authenticate with the Hugging Face Hub, create a token in your settings tab (https://huggingface.co/settings/tokens), set it as secret in your Google Colab and restart your session.\n",
            "You will be able to reuse this secret in all of your notebooks.\n",
            "Please note that authentication is recommended but still optional to access public models or datasets.\n",
            "  warnings.warn(\n"
          ]
        }
      ],
      "source": [
        "from bertalign import Bertalign"
      ]
    },
    {
      "cell_type": "code",
      "execution_count": 19,
      "metadata": {
        "id": "0ELgUcpPKwmQ"
      },
      "outputs": [],
      "source": [
        "import time"
      ]
    },
    {
      "cell_type": "code",
      "execution_count": 27,
      "metadata": {
        "colab": {
          "base_uri": "https://localhost:8080/"
        },
        "id": "RSFGlA0zCT0Y",
        "outputId": "e2cf2b53-4001-47e0-9ec5-51ea79d62909"
      },
      "outputs": [
        {
          "name": "stdout",
          "output_type": "stream",
          "text": [
            "Source language: English, Number of sentences: 134\n",
            "Target language: French, Number of sentences: 107\n",
            "Embedding source and target text using LaBSE ...\n",
            "Performing first-step alignment ...\n",
            "Performing second-step alignment ...\n",
            "Finished! Successfully aligning 134 English sentences to 107 French sentences\n",
            "\n",
            "Terminated in 226.79198551177979\n"
          ]
        }
      ],
      "source": [
        "startt = time.time()\n",
        "aligner = Bertalign(t_s, t_t)\n",
        "aligner.align_sents()\n",
        "endt = time.time()\n",
        "print(f\"Terminated in {endt-startt}\")"
      ]
    },
    {
      "cell_type": "code",
      "execution_count": 29,
      "metadata": {
        "colab": {
          "base_uri": "https://localhost:8080/"
        },
        "id": "R9lRLZE0MlI2",
        "outputId": "3a2656fc-8eff-4760-e878-10b6cc6e5fee"
      },
      "outputs": [
        {
          "data": {
            "text/plain": [
              "[([0], [0]),\n",
              " ([1, 2, 3], [1]),\n",
              " ([4, 5, 6], [2]),\n",
              " ([7], [3]),\n",
              " ([8, 9], [4, 5]),\n",
              " ([10], [6]),\n",
              " ([11, 12], [7]),\n",
              " ([13], [8, 9]),\n",
              " ([14], [10]),\n",
              " ([15, 16], [11]),\n",
              " ([17], [12]),\n",
              " ([18], [13]),\n",
              " ([19], [14]),\n",
              " ([20], [15]),\n",
              " ([21], [16]),\n",
              " ([22], [17]),\n",
              " ([23], [18]),\n",
              " ([24, 25, 26], [19]),\n",
              " ([27], [20]),\n",
              " ([28], [21]),\n",
              " ([29, 30, 31], [22, 23]),\n",
              " ([32, 33], [24]),\n",
              " ([34], [25]),\n",
              " ([35], [26]),\n",
              " ([36], [27]),\n",
              " ([37, 38], [28]),\n",
              " ([39], [29]),\n",
              " ([40], [30]),\n",
              " ([41, 42], [31]),\n",
              " ([43, 44], [32]),\n",
              " ([45, 46], [33]),\n",
              " ([47, 48], [34]),\n",
              " ([49], [35]),\n",
              " ([50], []),\n",
              " ([51, 52], [36]),\n",
              " ([53], [37]),\n",
              " ([54], [38]),\n",
              " ([55], []),\n",
              " ([56], [39]),\n",
              " ([57, 58], [40, 41]),\n",
              " ([59], [42]),\n",
              " ([60], [43]),\n",
              " ([61], [44, 45]),\n",
              " ([62], [46]),\n",
              " ([63], [47, 48]),\n",
              " ([64], [49]),\n",
              " ([65], [50]),\n",
              " ([66, 67], [51]),\n",
              " ([68, 69], [52]),\n",
              " ([70], [53]),\n",
              " ([71], [54]),\n",
              " ([72], [55]),\n",
              " ([73], [56, 57]),\n",
              " ([74, 75, 76, 77], [58]),\n",
              " ([78, 79, 80], [59]),\n",
              " ([81], [60]),\n",
              " ([82, 83], [61]),\n",
              " ([84], [62]),\n",
              " ([85], [63]),\n",
              " ([86], [64]),\n",
              " ([87], [65]),\n",
              " ([88, 89], [66]),\n",
              " ([90], [67]),\n",
              " ([91], [68, 69]),\n",
              " ([92], [70]),\n",
              " ([93], [71]),\n",
              " ([94], [72]),\n",
              " ([95, 96], [73]),\n",
              " ([97], [74]),\n",
              " ([98, 99, 100], [75]),\n",
              " ([101], [76]),\n",
              " ([102], [77]),\n",
              " ([103], [78, 79]),\n",
              " ([104], [80]),\n",
              " ([105], [81]),\n",
              " ([106], []),\n",
              " ([107, 108], [82, 83, 84]),\n",
              " ([109], [85]),\n",
              " ([110], [86]),\n",
              " ([111], [87]),\n",
              " ([112, 113], [88]),\n",
              " ([114], [89]),\n",
              " ([115], [90]),\n",
              " ([116], [91]),\n",
              " ([117], [92]),\n",
              " ([118], [93]),\n",
              " ([119], [94]),\n",
              " ([120, 121], [95]),\n",
              " ([122], [96]),\n",
              " ([123], [97]),\n",
              " ([124], [98]),\n",
              " ([125, 126], [99, 100]),\n",
              " ([127], [101]),\n",
              " ([128, 129], [102]),\n",
              " ([130], [103]),\n",
              " ([131], [104]),\n",
              " ([132], [105]),\n",
              " ([133], [106])]"
            ]
          },
          "execution_count": 29,
          "metadata": {},
          "output_type": "execute_result"
        }
      ],
      "source": [
        "aligner.result"
      ]
    },
    {
      "cell_type": "code",
      "execution_count": 30,
      "metadata": {
        "colab": {
          "base_uri": "https://localhost:8080/"
        },
        "id": "yDAAtnNxM34m",
        "outputId": "1133e819-2f81-4d0a-ff88-c154fb1fa387"
      },
      "outputs": [
        {
          "name": "stdout",
          "output_type": "stream",
          "text": [
            "Highbury, the large and populous village, almost amounting to a town, to which Hartfield, in spite of its separate lawn, and shrubberies, and name, did really belong, afforded her no equals.\n",
            "La petite ville d’Highbury dont Hartfield, malgré ses communaux, ses bois et son nom, dépendait en réalité, ne pouvait fournir à Emma aucune relation de son bord.\n",
            "\n",
            "The Woodhouses were first in consequence there. All looked up to them. She had many acquaintance in the place, for her father was universally civil, but not one among them who could be accepted in lieu of Miss Taylor for even half a day.\n",
            "Les Woodhouse étaient les gens importants de l’endroit ; Emma avait de nombreuses connaissances car son père était poli avec tout le monde mais il n’y avait personne qui fût en situation de devenir pour elle une amie.\n",
            "\n",
            "It was a melancholy change; and Emma could not but sigh over it, and wish for impossible things, till her father awoke, and made it necessary to be cheerful. His spirits required support. He was a nervous man, easily depressed; fond of every body that he was used to, and hating to part with them; hating change of every kind.\n",
            "En conséquence elle appréciait à sa valeur la perte qu’elle venait de faire ; ses pensées étaient tristes mais elle prit l’air gai dès que son père se réveilla ; c’était un homme nerveux, facilement déprimé, très attaché à tous ceux qui l’entouraient, il détestait toute espèce de changement et nourrissait une aversion particulière pour le mariage – origine et principe de bouleversement dans la famille – ; il n’avait pas encore pris son parti de celui de sa fille aînée et continuait à parler d’elle avec un ton d’extrême compassion.\n",
            "\n",
            "Matrimony, as the origin of change, was always disagreeable; and he was by no means yet reconciled to his own daughter’s marrying, nor could ever speak of her but with compassion, though it had been entirely a match of affection, when he was now obliged to part with Miss Taylor too; and from his habits of gentle selfishness, and of being never able to suppose that other people could feel differently from himself, he was very much disposed to think Miss Taylor had done as sad a thing for herself as for them, and would have been a great deal happier if she had spent all the rest of her life at Hartfield.\n",
            "Dans le cas présent, son aimable égoïsme et son incapacité d’imaginer chez les autres des sentiments différents des siens le prédisposaient à juger que Mlle Taylor avait agi contre ses propres intérêts aussi bien que contre ceux de ses amis ; il ne doutait pas qu’elle n’eût été plus heureuse en restant à Hartfield.\n",
            "\n",
            "Emma smiled and chatted as cheerfully as she could, to keep him from such thoughts; but when tea came, it was impossible for him not to say exactly as he had said at dinner, “Poor Miss Taylor!—I wish she were here again.\n",
            "Emma lui sourit et se mit à causer avec animation pour éviter qu’il ne pensât à ces pénibles conjonctures ; néanmoins, quand on servit le thé, il répéta exactement ce qu’il avait dit au dîner : « Pauvre Mlle Taylor ! Que n’est-elle encore avec nous !\n",
            "\n",
            "What a pity it is that Mr. Weston ever thought of her!”\n",
            "Quel malheur que M. Weston ait pensé à elle !\n",
            "\n",
            "“I cannot agree with you, papa; you know I cannot. Mr. Weston is such a good-humoured, pleasant, excellent man, that he thoroughly deserves a good wife;—and you would not have had Miss Taylor live with us for ever, and bear all my odd humours, when she might have a house of her own?”\n",
            "– Il m’est impossible, papa, de partager votre avis, M. Weston est un si aimable, si excellent homme qu’il méritait bien de trouver une femme accomplie ; et vous ne pouviez pas souhaiter que Mlle Taylor demeurât avec nous toute sa vie à supporter mes caprices alors qu’il lui était loisible de posséder une maison à elle ?\n",
            "\n",
            "“A house of her own!—But where is the advantage of a house of her own?\n",
            "– Une maison à elle ! Quel avantage y voyez-vous ?\n",
            "\n",
            "This is three times as large.—And you have never any odd humours, my dear.”\n",
            "Celle-ci n’est-elle pas trois fois plus grande, et vous n’avez jamais de ca-prices, ma chère.\n",
            "\n",
            "“How often we shall be going to see them, and they coming to see us!—We shall be always meeting! We must begin; we must go and pay wedding visit very soon.”\n",
            "– Nous irons les voir très souvent et de leur côté, ils viendront continuellement à Hartfield ; nous ne tarderons pas à leur faire la première visite.\n",
            "\n",
            "“My dear, how am I to get so far?\n",
            "– Ma chère, comment voulez-vous que j’arrive jusque-là ?\n",
            "\n",
            "Randalls is such a distance.\n",
            "Randalls est à une telle distance !\n",
            "\n",
            "I could not walk half so far.”\n",
            "Je ne puis marcher si long-temps.\n",
            "\n",
            "“No, papa, nobody thought of your walking.\n",
            "– Aussi papa, n’est-il pas question que vous alliez à pied.\n",
            "\n",
            "We must go in the carriage, to be sure.”\n",
            "Nous irons en voiture, naturellement.\n",
            "\n",
            "“The carriage!\n",
            "– En voiture !\n",
            "\n",
            "But James will not like to put the horses to for such a little way;—and where are the poor horses to be while we are paying our visit?”\n",
            "Mais James n’aimera pas atteler pour si peu ; et les pauvres chevaux, que deviendront-ils pendant que nous ferons notre visite ?\n",
            "\n",
            "“They are to be put into Mr. Weston’s stable, papa. You know we have settled all that already. We talked it all over with Mr. Weston last night.\n",
            "– On les mettra dans l’écurie de M. Weston : c’est une affaire entendue.\n",
            "\n",
            "And as for James, you may be very sure he will always like going to Randalls, because of his daughter’s being housemaid there.\n",
            "Quant à James vous pouvez être sûr qu’il sera toujours enchanté d’aller à Randalls où sa fille est femme de chambre.\n",
            "\n",
            "I only doubt whether he will ever take us anywhere else.\n",
            "J’appréhende même qu’il ne consente plus désormais à nous conduire ailleurs !\n",
            "\n",
            "That was your doing, papa. You got Hannah that good place. Nobody thought of Hannah till you mentioned her—James is so obliged to you!”\n",
            "C’est vous, papa, qui avez eu la pensée de proposer Anna pour cette bonne place. – James vous en est si reconnaissant !\n",
            "\n",
            "“I am very glad I did think of her. It was very lucky, for I would not have had poor James think himself slighted upon any account; and I am sure she will make a very good servant: she is a civil, pretty-spoken girl; I have a great opinion of her.\n",
            "Je suis sûr qu’elle deviendra une excellente domestique : c’est une fille polie, de bonnes manières ; chaque fois que je la rencontre elle me tire la révérence et me demande très gracieusement de mes nouvelles.\n",
            "\n",
            "Whenever I see her, she always curtseys and asks me how I do, in a very pretty manner; and when you have had her here to do needlework, I observe she always turns the lock of the door the right way and never bangs it.\n",
            "Quand vous l’avez fait venir ici pour travailler, j’ai remarqué qu’elle ouvrait toujours la porte avec précaution et qu’elle prenait soin de la soutenir en la fermant.\n",
            "\n",
            "I am sure she will be an excellent servant; and it will be a great comfort to poor Miss Taylor to have somebody about her that she is used to see.\n",
            "Ce sera une consolation pour cette pauvre Mlle Taylor d’avoir auprès d’elle un visage familier.\n",
            "\n",
            "Whenever James goes over to see his daughter, you know, she will be hearing of us.\n",
            "Chaque fois que James ira voir sa fille, il donnera de nos nouvelles.\n",
            "\n",
            "He will be able to tell her how we all are.” Emma spared no exertions to maintain this happier flow of ideas, and hoped, by the help of backgammon, to get her father tolerably through the evening, and be attacked by no regrets but her own.\n",
            "Emma s’efforça d’entretenir ce courant d’idées plus gaies et espéra qu’avec l’aide du jacquet elle parviendrait à faire franchir heureusement à son père le cap de la soirée.\n",
            "\n",
            "The backgammon-table was placed; but a visitor immediately afterwards walked in and made it unnecessary.\n",
            "On apporta la table, mais à ce moment un visiteur fut introduit et la rendit inutile.\n",
            "\n",
            "Mr. Knightley, a sensible man about seven or eight-and-thirty, was not only a very old and intimate friend of the family, but particularly connected with it, as the elder brother of Isabella’s husband.\n",
            "M. Knightley était un homme de trente-sept ans, le frère aîné du mari d’Isabelle et en même temps un très ancien et in-time ami de la famille.\n",
            "\n",
            "He lived about a mile from Highbury, was a frequent visitor, and always welcome, and at this time more welcome than usual, as coming directly from their mutual connexions in London. He had returned to a late dinner, after some days’ absence, and now walked up to Hartfield to say that all were well in Brunswick Square.\n",
            "Il habitait à une demi lieue d’Hartfield où il venait souvent et où il était toujours le bienvenu ; ce soir là, il fut particulièrement fêté car il arrivait de Londres et venait de faire une visite à leurs parents communs.\n",
            "\n",
            "It was a happy circumstance, and animated Mr. Woodhouse for some time. Mr. Knightley had a cheerful manner, which always did him good; and his many inquiries after “poor Isabella” and her children were answered most satisfactorily.\n",
            "C’était une heureuse diversion qui tint M. Woodhouse de bonne humeur pendant quelque temps ; après avoir obtenu tous les renseignements possibles sur la santé de sa fille et de ses petits-enfants, M. Woodhouse ajouta avec reconnaissance :\n",
            "\n",
            "When this was over, Mr. Woodhouse gratefully observed, “It is very kind of you, Mr. Knightley, to come out at this late hour to call upon us. I am afraid you must have had a shocking walk.”\n",
            "– C’est bien aimable à vous, M. Knightley, d’être sorti à cette heure tardive pour nous faire une visite et d’avoir bravé l’obscurité et le froid.\n",
            "\n",
            "“Not at all, sir. It is a beautiful moonlight night; and so mild that I must draw back from your great fire.”\n",
            "– Je puis vous assurer, Monsieur, qu’il y a un magnifique clair de lune et le temps est si doux qu’il faut que je m’éloigne de votre grand feu.\n",
            "\n",
            "“But you must have found it very damp and dirty.\n",
            "– Mais la route doit être détrempée.\n",
            "\n",
            "I wish you may not catch cold.”\n",
            "\n",
            "\n",
            "“Dirty, sir! Look at my shoes.\n",
            "– Regardez mes bottines : vous voyez !\n",
            "\n",
            "Not a speck on them.”\n",
            "Il n’y a pas une tache de boue.\n",
            "\n",
            "“Well! that is quite surprising, for we have had a vast deal of rain here.\n",
            "– C’est étonnant, car, ici, la pluie n’a cessé de tomber.\n",
            "\n",
            "It rained dreadfully hard for half an hour while we were at breakfast.\n",
            "\n",
            "\n",
            "I wanted them to put off the wedding.”\n",
            "J’avais même proposé de remettre le mariage.\n",
            "\n",
            "“By the bye—I have not wished you joy. Being pretty well aware of what sort of joy you must both be feeling, I have been in no hurry with my congratulations; but I hope it all went off tolerably well.\n",
            "– À propos, je ne vous ai pas encore offert mes félicitations ; du reste, je me rends compte du genre de satisfaction que vous devez éprouver ! J’espère que tout s’est passé aussi bien que possible.\n",
            "\n",
            "How did you all behave?\n",
            "Comment vous êtes-vous comportés ?\n",
            "\n",
            "Who cried most?”\n",
            "Qui est-ce qui a versé le plus de larmes ?\n",
            "\n",
            "“Ah! poor Miss Taylor! ’Tis a sad business.”\n",
            "– Ah ! pauvre Mademoiselle Taylor ! C’est une triste affaire.\n",
            "\n",
            "“Poor Mr. and Miss Woodhouse, if you please; but I cannot possibly say ‘poor Miss Taylor.’\n",
            "– Dites plutôt : pauvres M. et Mlle Woodhouse.\n",
            "\n",
            "I have a great regard for you and Emma; but when it comes to the question of dependence or independence!—At any rate, it must be better to have only one to please than two.”\n",
            "J’ai beau-coup de considération pour vous et pour Emma, mais j’estime l’indépendance le premier des biens ! De toute façon, il vaut mieux avoir une seule personne à contenter au lieu de deux.\n",
            "\n",
            "“Especially when one of those two is such a fanciful, troublesome creature!” said Emma playfully.\n",
            "– Surtout lorsqu’une de ces personnes est un être aussi capricieux et exigeant ! dit Emma d’un ton ironique.\n",
            "\n",
            "“That is what you have in your head, I know—and what you would certainly say if my father were not by.”\n",
            "Voilà votre pensée de derrière la tête, je le sais ; voilà ce que vous diriez-si mon père n’était pas là.\n",
            "\n",
            "“I believe it is very true, my dear, indeed,” said Mr. Woodhouse, with a sigh. “I am afraid I am sometimes very fanciful and troublesome.”\n",
            "– En effet, ma chère, dit M. Woodhouse en soupirant ; j’ai bien peur d’être parfois très capricieux et exigeant.\n",
            "\n",
            "“My dearest papa! You do not think I could mean you, or suppose Mr. Knightley to mean you.\n",
            "– Mais, mon cher papa, vous ne supposez pas que je faisais allusion à vous ou que M. Knightley avait cette intention ?\n",
            "\n",
            "What a horrible idea!\n",
            "Quelle horrible idée !\n",
            "\n",
            "Oh no!\n",
            "Oh non !\n",
            "\n",
            "I meant only myself.\n",
            "C’est de moi qu’il s’agissait.\n",
            "\n",
            "Mr. Knightley loves to find fault with me, you know—in a joke—it is all a joke.\n",
            "M. Knightley aime à me taquiner. – Emma sait que je ne la flatte jamais, dit M. Knightley.\n",
            "\n",
            "We always say what we like to one another.” Mr. Knightley, in fact, was one of the few people who could see faults in Emma Woodhouse, and the only one who ever told her of them: and though this was not particularly agreeable to Emma herself, she knew it would be so much less so to her father, that she would not have him really suspect such a circumstance as her not being thought perfect by every body. “Emma knows I never flatter her,” said Mr. Knightley, “but I meant no reflection on any body. Miss Taylor has been used to have two persons to please; she will now have but one.\n",
            "Mais en l’occurrence je ne songeais pas à la critiquer.\n",
            "\n",
            "The chances are that she must be a gainer.” “Well,” said Emma, willing to let it pass—“you want to hear about the wedding; and I shall be happy to tell you, for we all behaved charmingly. Every body was punctual, every body in their best looks: not a tear, and hardly a long face to be seen.\n",
            "– Allons, dit Emma toute disposée à ne pas insister, je vois que vous voulez avoir des nouvelles du mariage ; je serai heureuse de vous en donner, car nous nous sommes tous comportés d’une façon charmante : pas une larme ; c’est à peine si on voyait un visage défait.\n",
            "\n",
            "Oh no; we all felt that we were going to be only half a mile apart, and were sure of meeting every day.”\n",
            "Nous avions conscience que nous allions vivre à une demi lieue les uns des autres.\n",
            "\n",
            "“Dear Emma bears every thing so well,” said her father. “But, Mr. Knightley, she is really very sorry to lose poor Miss Taylor, and I am sure she will miss her more than she thinks for.”\n",
            "– Ma chère Emma est si courageuse, dit M. Woodhouse, mais en réalité, M. Knightley, elle est très affectée.\n",
            "\n",
            "Emma turned away her head, divided between tears and smiles.\n",
            "Emma détourna la tête, souriant et pleurant à la fois.\n",
            "\n",
            "“It is impossible that Emma should not miss such a companion,” said Mr. Knightley.\n",
            "– Il est impossible qu’Emma ne sente pas la perte d’une pareille compagne, répondit M. Knightley.\n",
            "\n",
            "“We should not like her so well as we do, sir, if we could suppose it; but she knows how much the marriage is to Miss Taylor’s advantage; she knows how very acceptable it must be, at Miss Taylor’s time of life, to be settled in a home of her own, and how important to her to be secure of a comfortable provision, and therefore cannot allow herself to feel so much pain as pleasure.\n",
            "Nous ne l’aimerions pas autant que nous l’aimons si nous pouvions le supposer ; mais elle sait combien ce mariage est à l’avantage de Mlle Taylor, combien il est important à un certain âge d’avoir un chez soi et de sentir l’avenir assuré ; elle ne peut donc permettre à son chagrin d’être plus fort que sa joie.\n",
            "\n",
            "Every friend of Miss Taylor must be glad to have her so happily married.”\n",
            "Tous les amis de Mlle Taylor doivent se réjouir de la voir si heureusement mariée.\n",
            "\n",
            "“And you have forgotten one matter of joy to me,” said Emma, “and a very considerable one—that I made the match myself. I made the match, you know, four years ago; and to have it take place, and be proved in the right, when so many people said Mr. Weston would never marry again, may comfort me for any thing.”\n",
            "– Et vous oubliez une cause de contentement qui m’est personnelle ; je me flatte, dit Emma d’avoir contribué à ce mariage que je prévoyais depuis quatre ans !\n",
            "\n",
            "Mr. Knightley shook his head at her.\n",
            "M. Knightley hocha la tête.\n",
            "\n",
            "Her father fondly replied, “Ah! my dear, I wish you would not make matches and foretell things, for whatever you say always comes to pass.\n",
            "M. Woodhouse répondit affectueusement : – Ah ! ma chère, je vous en prie, ne faites plus de prédictions, car elles se réalisent toujours.\n",
            "\n",
            "Pray do not make any more matches.”\n",
            "J’espère aussi que vous renoncerez à préparer des mariages.\n",
            "\n",
            "“I promise you to make none for myself, papa; but I must, indeed, for other people.\n",
            "– Je vous promets de ne pas m’en occuper pour mon compte, papa, mais je ne puis prendre d’engagement en ce qui concerne les autres.\n",
            "\n",
            "It is the greatest amusement in the world!\n",
            "Il n’y a rien de plus amusant.\n",
            "\n",
            "And after such success, you know!—Every body said that Mr. Weston would never marry again. Oh dear, no!\n",
            "Je me sens encouragée par ce début !\n",
            "\n",
            "Mr. Weston, who had been a widower so long, and who seemed so perfectly comfortable without a wife, so constantly occupied either in his business in town or among his friends here, always acceptable wherever he went, always cheerful—Mr. Weston need not spend a single evening in the year alone if he did not like it.\n",
            "Tout le monde était d’accord pour trouver que M. Weston paraissait fort bien se passer de femme : ses affaires en ville lui fournissaient une occupation et quand il arrivait ici, ses amis l’accaparaient ; chacune de ses soirées était prise.\n",
            "\n",
            "Oh no! Mr. Weston certainly would never marry again. Some people even talked of a promise to his wife on her deathbed, and others of the son and the uncle not letting him.\n",
            "Quelques personnes affirmaient même que sa femme, sur son lit de mort, avait exigé qu’il fît serment de ne pas se remarier ; d’autres que son fils et l’oncle s’y opposaient.\n",
            "\n",
            "All manner of solemn nonsense was talked on the subject, but I believed none of it.\n",
            "On disait toutes sortes de billevesées à ce sujet, mais je n’ai jamais voulu y croire.\n",
            "\n",
            "“Ever since the day—about four years ago—that Miss Taylor and I met with him in Broadway Lane, when, because it began to drizzle, he darted away with so much gallantry, and borrowed two umbrellas for us from Farmer Mitchell’s, I made up my mind on the subject.\n",
            "Un matin, il y a environ quatre ans, Mlle Taylor et moi avons rencontré M. Weston dans Broadway Lane : la pluie menaçait, et il fit preuve de l’empressement le plus galant en courant aussitôt emprunter deux parapluies chez le fermier Mitchell.\n",
            "\n",
            "I planned the match from that hour; and when such success has blessed me in this instance, dear papa, you cannot think that I shall leave off match-making.”\n",
            "Dès cet instant j’ai envisagé la possibilité de cette union et depuis je me suis appliquée à en amener la réalisation. Vous ne voudriez pas, papa, que je reste sur mon succès ?\n",
            "\n",
            "“I do not understand what you mean by ‘success,’” said Mr. Knightley.\n",
            "– Qu’entendez-vous par succès ? dit M. Knightley.\n",
            "\n",
            "“Success supposes endeavour.\n",
            "Un succès suppose un effort.\n",
            "\n",
            "Your time has been properly and delicately spent, if you have been endeavouring for the last four years to bring about this marriage.\n",
            "\n",
            "\n",
            "A worthy employment for a young lady’s mind! But if, which I rather imagine, your making the match, as you call it, means only your planning it, your saying to yourself one idle day, ‘I think it would be a very good thing for Miss Taylor if Mr. Weston were to marry her,’ and saying it again to yourself every now and then afterwards, why do you talk of success?\n",
            "Or, si je ne me trompe, votre rôle a consisté à vous dire, un jour de loisir : « Il me semble que ce serait une bonne fortune pour Mlle Taylor si M. Weston l’épousait. J’admets même volontiers que vous ayez formulé ce souhait à diverses reprises. Où voyez-vous là un succès ?\n",
            "\n",
            "Where is your merit?\n",
            "Quel est votre mérite ?\n",
            "\n",
            "What are you proud of?\n",
            "De quoi êtes-vous fière ?\n",
            "\n",
            "You made a lucky guess; and that is all that can be said.”\n",
            "Vous avez deviné juste, c’est tout ce que l’on peut dire.\n",
            "\n",
            "“And have you never known the pleasure and triumph of a lucky guess?—I pity you.—I thought you cleverer—for, depend upon it a lucky guess is never merely luck. There is always some talent in it.\n",
            "– Admettons qu’il en soit ainsi : il y a toujours du mérite à deviner juste.\n",
            "\n",
            "And as to my poor word ‘success,’ which you quarrel with, I do not know that I am so entirely without any claim to it.\n",
            "Quant à mon pauvre mot « succès », à propos duquel vous me querellez, je ne suis pas sûre de ne pas y avoir quelque droit.\n",
            "\n",
            "You have drawn two pretty pictures; but I think there may be a third—a something between the do-nothing and the do-all.\n",
            "J’imagine qu’il existe un moyen terme entre n’avoir rien fait et avoir tout fait.\n",
            "\n",
            "If I had not promoted Mr. Weston’s visits here, and given many little encouragements, and smoothed many little matters, it might not have come to any thing after all.\n",
            "Si je n’avais favorisé les visites de M. Weston, si je ne l’avais pas encouragé de toute manière, il se peut que les choses n’aient pas abouti malgré tout.\n",
            "\n",
            "I think you must know Hartfield enough to comprehend that.”\n",
            "Vous connaissez assez Hartfield pour vous en rendre compte.\n",
            "\n",
            "“A straightforward, open-hearted man like Weston, and a rational, unaffected woman like Miss Taylor, may be safely left to manage their own concerns.\n",
            "– Un homme franc, loyal comme M. Weston et une femme intelligente, simple comme Mlle Taylor arrivent sans difficulté à s’entendre, s’ils en ont le désir.\n",
            "\n",
            "You are more likely to have done harm to yourself, than good to them, by interference.”\n",
            "Il est probable que votre intervention vous a été plus préjudiciable qu’elle ne leur a été utile.\n",
            "\n",
            "“Emma never thinks of herself, if she can do good to others,” rejoined Mr. Woodhouse, understanding but in part. “But, my dear, pray do not make any more matches; they are silly things, and break up one’s family circle grievously.”\n",
            "– Emma ne pense jamais à elle-même quand il s’agit de rendre service aux autres, intervint M. Woodhouse, ne saisissant qu’à moitié le sens de la conversation ; mais, ma chère, ne vous mêlez plus de mariages : ce sont de sottes entreprises qui rompent le cercle de famille.\n",
            "\n",
            "“Only one more, papa; only for Mr. Elton.\n",
            "– Laissez-moi en négocier encore un, papa : celui de notre vicaire.\n",
            "\n",
            "Poor Mr. Elton!\n",
            "Pauvre M. Elton !\n",
            "\n",
            "You like Mr. Elton, papa,—I must look about for a wife for him.\n",
            "Il faut que je lui trouve une femme.\n",
            "\n",
            "There is nobody in Highbury who deserves him—and he has been here a whole year, and has fitted up his house so comfortably, that it would be a shame to have him single any longer—and I thought when he was joining their hands to-day, he looked so very much as if he would like to have the same kind office done for him! I think very well of Mr. Elton, and this is the only way I have of doing him a service.”\n",
            "Depuis un an qu’il est installé à Hartfield, il a transformé le presbytère et il a fait preuve de beaucoup de goût dans l’arrangement de son intérieur : ce serait une pitié s’il demeurait célibataire. Il paraissait, en joignant les mains des nouveaux mariés, tout disposé, le cas échéant, à tendre la sienne dans le même but.\n",
            "\n",
            "“Mr. Elton is a very pretty young man, to be sure, and a very good young man, and I have a great regard for him.\n",
            "– M. Elton est un jeune homme accompli et j’ai beaucoup d’estime pour lui.\n",
            "\n",
            "But if you want to shew him any attention, my dear, ask him to come and dine with us some day. That will be a much better thing.\n",
            "Je vous conseille, ma chère, si vous désirez lui donner un témoignage de sympathie, de l’inviter à dîner un de ces soirs : c’est la meilleure manière de vous intéresser à lui.\n",
            "\n",
            "I dare say Mr. Knightley will be so kind as to meet him.”\n",
            "Je suis sûr que M. Knightley voudra bien se joindre à nous ce jour-là.\n",
            "\n",
            "“With a great deal of pleasure, sir, at any time,” said Mr. Knightley, laughing, “and I agree with you entirely, that it will be a much better thing.\n",
            "– Avec le plus grand plaisir, répondit M. Knightley en riant, et je dois dire que je partage absolument votre opinion à ce sujet.\n",
            "\n",
            "Invite him to dinner, Emma, and help him to the best of the fish and the chicken, but leave him to chuse his own wife.\n",
            "Invitez M. Elton à dîner, Emma, ajouta-t-il, servez lui le poisson le plus rare et le poulet le plus fin, mais laissez-le choisir sa femme !\n",
            "\n",
            "Depend upon it, a man of six or seven-and-twenty can take care of himself.”\n",
            "Croyez-moi ; un homme de vingt-sept ans est capable de se diriger tout seul.\n",
            "\n"
          ]
        }
      ],
      "source": [
        "aligner.print_sents()"
      ]
    },
    {
      "cell_type": "markdown",
      "metadata": {
        "id": "HrxKJMkv6CQk"
      },
      "source": [
        "## Allign"
      ]
    },
    {
      "cell_type": "code",
      "execution_count": 12,
      "metadata": {
        "colab": {
          "base_uri": "https://localhost:8080/"
        },
        "id": "UJxA8RiuEGg6",
        "outputId": "e5779e13-820f-4b0a-c71e-1c0dde00297b"
      },
      "outputs": [
        {
          "name": "stdout",
          "output_type": "stream",
          "text": [
            "/content\n"
          ]
        }
      ],
      "source": [
        "cd .."
      ]
    },
    {
      "cell_type": "code",
      "execution_count": 13,
      "metadata": {
        "colab": {
          "base_uri": "https://localhost:8080/"
        },
        "id": "6xXrDZLk6D-v",
        "outputId": "0af04104-4673-4cbf-8e20-57299dfbfbe6"
      },
      "outputs": [
        {
          "name": "stdout",
          "output_type": "stream",
          "text": [
            "Cloning into 'ailign'...\n",
            "remote: Enumerating objects: 1045, done.\u001b[K\n",
            "remote: Counting objects: 100% (37/37), done.\u001b[K\n",
            "remote: Compressing objects: 100% (35/35), done.\u001b[K\n",
            "remote: Total 1045 (delta 9), reused 0 (delta 0), pack-reused 1008 (from 1)\u001b[K\n",
            "Receiving objects: 100% (1045/1045), 9.23 MiB | 5.15 MiB/s, done.\n",
            "Resolving deltas: 100% (143/143), done.\n"
          ]
        }
      ],
      "source": [
        "!git clone https://gricad-gitlab.univ-grenoble-alpes.fr/kraifo/ailign.git"
      ]
    },
    {
      "cell_type": "code",
      "execution_count": 6,
      "metadata": {
        "colab": {
          "base_uri": "https://localhost:8080/"
        },
        "id": "j6-23HgrE_RS",
        "outputId": "98607737-395f-4050-ff9b-34bded7622e0"
      },
      "outputs": [
        {
          "name": "stdout",
          "output_type": "stream",
          "text": [
            "/content/ailign\n"
          ]
        }
      ],
      "source": [
        "cd ailign"
      ]
    },
    {
      "cell_type": "code",
      "execution_count": 8,
      "metadata": {
        "colab": {
          "base_uri": "https://localhost:8080/"
        },
        "id": "GHI3_1KCF-mb",
        "outputId": "524480fa-f002-4076-efe8-b0a486157636"
      },
      "outputs": [
        {
          "name": "stdout",
          "output_type": "stream",
          "text": [
            "Collecting stanza\n",
            "  Downloading stanza-1.10.1-py3-none-any.whl.metadata (13 kB)\n",
            "Collecting emoji (from stanza)\n",
            "  Downloading emoji-2.14.1-py3-none-any.whl.metadata (5.7 kB)\n",
            "Requirement already satisfied: numpy in /usr/local/lib/python3.11/dist-packages (from stanza) (1.26.4)\n",
            "Requirement already satisfied: protobuf>=3.15.0 in /usr/local/lib/python3.11/dist-packages (from stanza) (4.25.6)\n",
            "Requirement already satisfied: requests in /usr/local/lib/python3.11/dist-packages (from stanza) (2.32.3)\n",
            "Requirement already satisfied: networkx in /usr/local/lib/python3.11/dist-packages (from stanza) (3.4.2)\n",
            "Requirement already satisfied: torch>=1.3.0 in /usr/local/lib/python3.11/dist-packages (from stanza) (2.5.1+cu124)\n",
            "Requirement already satisfied: tqdm in /usr/local/lib/python3.11/dist-packages (from stanza) (4.67.1)\n",
            "Requirement already satisfied: filelock in /usr/local/lib/python3.11/dist-packages (from torch>=1.3.0->stanza) (3.17.0)\n",
            "Requirement already satisfied: typing-extensions>=4.8.0 in /usr/local/lib/python3.11/dist-packages (from torch>=1.3.0->stanza) (4.12.2)\n",
            "Requirement already satisfied: jinja2 in /usr/local/lib/python3.11/dist-packages (from torch>=1.3.0->stanza) (3.1.5)\n",
            "Requirement already satisfied: fsspec in /usr/local/lib/python3.11/dist-packages (from torch>=1.3.0->stanza) (2024.10.0)\n",
            "Requirement already satisfied: nvidia-cuda-nvrtc-cu12==12.4.127 in /usr/local/lib/python3.11/dist-packages (from torch>=1.3.0->stanza) (12.4.127)\n",
            "Requirement already satisfied: nvidia-cuda-runtime-cu12==12.4.127 in /usr/local/lib/python3.11/dist-packages (from torch>=1.3.0->stanza) (12.4.127)\n",
            "Requirement already satisfied: nvidia-cuda-cupti-cu12==12.4.127 in /usr/local/lib/python3.11/dist-packages (from torch>=1.3.0->stanza) (12.4.127)\n",
            "Requirement already satisfied: nvidia-cudnn-cu12==9.1.0.70 in /usr/local/lib/python3.11/dist-packages (from torch>=1.3.0->stanza) (9.1.0.70)\n",
            "Requirement already satisfied: nvidia-cublas-cu12==12.4.5.8 in /usr/local/lib/python3.11/dist-packages (from torch>=1.3.0->stanza) (12.4.5.8)\n",
            "Requirement already satisfied: nvidia-cufft-cu12==11.2.1.3 in /usr/local/lib/python3.11/dist-packages (from torch>=1.3.0->stanza) (11.2.1.3)\n",
            "Requirement already satisfied: nvidia-curand-cu12==10.3.5.147 in /usr/local/lib/python3.11/dist-packages (from torch>=1.3.0->stanza) (10.3.5.147)\n",
            "Requirement already satisfied: nvidia-cusolver-cu12==11.6.1.9 in /usr/local/lib/python3.11/dist-packages (from torch>=1.3.0->stanza) (11.6.1.9)\n",
            "Requirement already satisfied: nvidia-cusparse-cu12==12.3.1.170 in /usr/local/lib/python3.11/dist-packages (from torch>=1.3.0->stanza) (12.3.1.170)\n",
            "Requirement already satisfied: nvidia-nccl-cu12==2.21.5 in /usr/local/lib/python3.11/dist-packages (from torch>=1.3.0->stanza) (2.21.5)\n",
            "Requirement already satisfied: nvidia-nvtx-cu12==12.4.127 in /usr/local/lib/python3.11/dist-packages (from torch>=1.3.0->stanza) (12.4.127)\n",
            "Requirement already satisfied: nvidia-nvjitlink-cu12==12.4.127 in /usr/local/lib/python3.11/dist-packages (from torch>=1.3.0->stanza) (12.4.127)\n",
            "Requirement already satisfied: triton==3.1.0 in /usr/local/lib/python3.11/dist-packages (from torch>=1.3.0->stanza) (3.1.0)\n",
            "Requirement already satisfied: sympy==1.13.1 in /usr/local/lib/python3.11/dist-packages (from torch>=1.3.0->stanza) (1.13.1)\n",
            "Requirement already satisfied: mpmath<1.4,>=1.1.0 in /usr/local/lib/python3.11/dist-packages (from sympy==1.13.1->torch>=1.3.0->stanza) (1.3.0)\n",
            "Requirement already satisfied: charset-normalizer<4,>=2 in /usr/local/lib/python3.11/dist-packages (from requests->stanza) (3.4.1)\n",
            "Requirement already satisfied: idna<4,>=2.5 in /usr/local/lib/python3.11/dist-packages (from requests->stanza) (2.10)\n",
            "Requirement already satisfied: urllib3<3,>=1.21.1 in /usr/local/lib/python3.11/dist-packages (from requests->stanza) (2.3.0)\n",
            "Requirement already satisfied: certifi>=2017.4.17 in /usr/local/lib/python3.11/dist-packages (from requests->stanza) (2025.1.31)\n",
            "Requirement already satisfied: MarkupSafe>=2.0 in /usr/local/lib/python3.11/dist-packages (from jinja2->torch>=1.3.0->stanza) (3.0.2)\n",
            "Downloading stanza-1.10.1-py3-none-any.whl (1.1 MB)\n",
            "\u001b[2K   \u001b[90m━━━━━━━━━━━━━━━━━━━━━━━━━━━━━━━━━━━━━━━━\u001b[0m \u001b[32m1.1/1.1 MB\u001b[0m \u001b[31m20.6 MB/s\u001b[0m eta \u001b[36m0:00:00\u001b[0m\n",
            "\u001b[?25hDownloading emoji-2.14.1-py3-none-any.whl (590 kB)\n",
            "\u001b[2K   \u001b[90m━━━━━━━━━━━━━━━━━━━━━━━━━━━━━━━━━━━━━━━━\u001b[0m \u001b[32m590.6/590.6 kB\u001b[0m \u001b[31m38.3 MB/s\u001b[0m eta \u001b[36m0:00:00\u001b[0m\n",
            "\u001b[?25hInstalling collected packages: emoji, stanza\n",
            "Successfully installed emoji-2.14.1 stanza-1.10.1\n"
          ]
        }
      ],
      "source": [
        "!pip install stanza"
      ]
    },
    {
      "cell_type": "code",
      "execution_count": 10,
      "metadata": {
        "colab": {
          "base_uri": "https://localhost:8080/"
        },
        "id": "7o4T7Xd7GNSq",
        "outputId": "1fad72f3-45b2-434c-da5a-bdb697e82ba1"
      },
      "outputs": [
        {
          "name": "stdout",
          "output_type": "stream",
          "text": [
            "Collecting pyconll\n",
            "  Downloading pyconll-3.2.0-py3-none-any.whl.metadata (8.0 kB)\n",
            "Downloading pyconll-3.2.0-py3-none-any.whl (27 kB)\n",
            "Installing collected packages: pyconll\n",
            "Successfully installed pyconll-3.2.0\n"
          ]
        }
      ],
      "source": [
        "!pip install pyconll"
      ]
    },
    {
      "cell_type": "code",
      "execution_count": 3,
      "metadata": {
        "colab": {
          "base_uri": "https://localhost:8080/"
        },
        "id": "1ApQ6VcHFNVG",
        "outputId": "2e20213f-b67a-44ec-c362-102ee3b12f7c"
      },
      "outputs": [
        {
          "name": "stdout",
          "output_type": "stream",
          "text": [
            "Collecting BTrees\n",
            "  Downloading BTrees-6.1-cp311-cp311-manylinux_2_17_x86_64.manylinux2014_x86_64.whl.metadata (20 kB)\n",
            "Requirement already satisfied: persistent>=4.1.0 in /usr/local/lib/python3.11/dist-packages (from BTrees) (6.1)\n",
            "Requirement already satisfied: zope.interface>=5.0.0 in /usr/local/lib/python3.11/dist-packages (from BTrees) (7.2)\n",
            "Requirement already satisfied: zope.deferredimport in /usr/local/lib/python3.11/dist-packages (from persistent>=4.1.0->BTrees) (5.0)\n",
            "Requirement already satisfied: cffi in /usr/local/lib/python3.11/dist-packages (from persistent>=4.1.0->BTrees) (1.17.1)\n",
            "Requirement already satisfied: setuptools in /usr/local/lib/python3.11/dist-packages (from zope.interface>=5.0.0->BTrees) (75.1.0)\n",
            "Requirement already satisfied: pycparser in /usr/local/lib/python3.11/dist-packages (from cffi->persistent>=4.1.0->BTrees) (2.22)\n",
            "Requirement already satisfied: zope.proxy in /usr/local/lib/python3.11/dist-packages (from zope.deferredimport->persistent>=4.1.0->BTrees) (6.1)\n",
            "Downloading BTrees-6.1-cp311-cp311-manylinux_2_17_x86_64.manylinux2014_x86_64.whl (3.8 MB)\n",
            "\u001b[?25l   \u001b[90m━━━━━━━━━━━━━━━━━━━━━━━━━━━━━━━━━━━━━━━━\u001b[0m \u001b[32m0.0/3.8 MB\u001b[0m \u001b[31m?\u001b[0m eta \u001b[36m-:--:--\u001b[0m\r\u001b[2K   \u001b[91m━━━━━━━━\u001b[0m\u001b[91m╸\u001b[0m\u001b[90m━━━━━━━━━━━━━━━━━━━━━━━━━━━━━━━\u001b[0m \u001b[32m0.9/3.8 MB\u001b[0m \u001b[31m25.7 MB/s\u001b[0m eta \u001b[36m0:00:01\u001b[0m\r\u001b[2K   \u001b[91m━━━━━━━━━━━━━━━━━━━━━━━━━━━━━━━━━━━━━━━\u001b[0m\u001b[91m╸\u001b[0m \u001b[32m3.8/3.8 MB\u001b[0m \u001b[31m69.5 MB/s\u001b[0m eta \u001b[36m0:00:01\u001b[0m\r\u001b[2K   \u001b[90m━━━━━━━━━━━━━━━━━━━━━━━━━━━━━━━━━━━━━━━━\u001b[0m \u001b[32m3.8/3.8 MB\u001b[0m \u001b[31m49.2 MB/s\u001b[0m eta \u001b[36m0:00:00\u001b[0m\n",
            "\u001b[?25hInstalling collected packages: BTrees\n",
            "Successfully installed BTrees-6.1\n"
          ]
        }
      ],
      "source": [
        "!pip install BTrees  #persistent is the correct name of the package containing BTrees\n",
        "from BTrees.OOBTree import OOBTree # This should now import successfully if persistent installation completes without error."
      ]
    },
    {
      "cell_type": "code",
      "execution_count": 12,
      "metadata": {
        "colab": {
          "base_uri": "https://localhost:8080/"
        },
        "id": "bWKukbQ8Ei8C",
        "outputId": "7e61c1d9-8803-4f4b-c04f-324567897dd9"
      },
      "outputs": [
        {
          "name": "stdout",
          "output_type": "stream",
          "text": [
            "Allowed groups : [(0, 1), (1, 0), (1, 1), (1, 2), (2, 1), (1, 3), (3, 1), (1, 4), (4, 1), (2, 2)]\n",
            "2025-02-13 16:24:04.567023: E external/local_xla/xla/stream_executor/cuda/cuda_fft.cc:477] Unable to register cuFFT factory: Attempting to register factory for plugin cuFFT when one has already been registered\n",
            "WARNING: All log messages before absl::InitializeLog() is called are written to STDERR\n",
            "E0000 00:00:1739463844.606159   12461 cuda_dnn.cc:8310] Unable to register cuDNN factory: Attempting to register factory for plugin cuDNN when one has already been registered\n",
            "E0000 00:00:1739463844.617436   12461 cuda_blas.cc:1418] Unable to register cuBLAS factory: Attempting to register factory for plugin cuBLAS when one has already been registered\n",
            "2025-02-13 16:24:04.655490: I tensorflow/core/platform/cpu_feature_guard.cc:210] This TensorFlow binary is optimized to use available CPU instructions in performance-critical operations.\n",
            "To enable the following instructions: AVX2 FMA, in other operations, rebuild TensorFlow with the appropriate compiler flags.\n",
            "*** Loading sbert model\n",
            "Processing /content/emma_en.txt and /content/emma_fr.txt\n",
            "Warning : default format TXT\n",
            "75 sentences for  en\n",
            "Warning : default format TXT\n",
            "40 sentences for  fr\n",
            "Running Encoder...\n",
            "\n",
            "\n",
            "1. Encoding --> 54.271162033081055 s.\n",
            "\n",
            "\n",
            "2. Normalization --> 0.0004029273986816406 s.\n",
            "\n",
            "\n",
            "3. Similarity matrix --> 0.004599094390869141 s.\n",
            "\n",
            "\n",
            "4-5. Extracting and filtering k best vertically and horizontally --> 0.002571582794189453 s.\n",
            "\n",
            "\n",
            "6. Computing average density--> 0.06489706039428711 s.\n",
            "\n",
            "12 points have been removed!\n",
            "21 conflicting points have been removed!\n",
            "\n",
            "7. Removing low density points--> 0.07503557205200195 s.\n",
            "\n",
            "\n",
            "8. Extracting alignable intervals--> 2.6702880859375e-05 s.\n",
            "\n",
            "Debug: Closing last interval ((-1, -1),(74,39))\n",
            "Total interval length= 76 + 41\n",
            "Chararacter ratio= 0.8543696769738357\n",
            "Init : dtw from  (-1, -1)  to  (74, 39)\n",
            "Anchor point 0,0\n",
            "Anchor point 4,3\n",
            "Anchor point 6,4\n",
            "Anchor point 8,5\n",
            "Anchor point 10,6\n",
            "Anchor point 12,7\n",
            "Anchor point 16,9\n",
            "Anchor point 18,10\n",
            "Anchor point 20,11\n",
            "Anchor point 22,12\n",
            "Anchor point 26,14\n",
            "Anchor point 28,16\n",
            "Anchor point 30,17\n",
            "Anchor point 32,18\n",
            "Anchor point 34,19\n",
            "Anchor point 36,20\n",
            "Anchor point 38,21\n",
            "Anchor point 40,22\n",
            "Anchor point 46,28\n",
            "Anchor point 48,25\n",
            "Anchor point 54,29\n",
            "Anchor point 58,34\n",
            "Anchor point 66,35\n",
            "Anchor point 68,36\n",
            "Anchor point 70,38\n",
            "Anchor point 72,39\n",
            "Anchor point 74,39\n",
            "Last point (74,39)\n",
            "\n",
            "9. Elapsed time for complete DTW--> 0.1403968334197998 s.\n",
            "\n",
            "Average similarity=0.4241\n",
            "Terminated in 54.56282824200025 s.\n"
          ]
        }
      ],
      "source": [
        "!python3 ailign.py --inputFile1 \"/content/emma_en.txt\" --inputFile2 \"/content/emma_fr.txt\" --inputFormat txt --outputFormats txt tmx ces --outputFile \"/content/test.en-fr\"\n"
      ]
    },
    {
      "cell_type": "markdown",
      "metadata": {},
      "source": [
        "### Proper sent split"
      ]
    },
    {
      "cell_type": "code",
      "execution_count": 31,
      "metadata": {
        "colab": {
          "base_uri": "https://localhost:8080/"
        },
        "id": "axHoydP7J0J0",
        "outputId": "81c8d1dd-8f34-4e24-fb55-d1c0a6d77c27"
      },
      "outputs": [
        {
          "name": "stderr",
          "output_type": "stream",
          "text": [
            "[nltk_data] Downloading package punkt to /root/nltk_data...\n",
            "[nltk_data]   Unzipping tokenizers/punkt.zip.\n"
          ]
        },
        {
          "data": {
            "text/plain": [
              "True"
            ]
          },
          "execution_count": 31,
          "metadata": {},
          "output_type": "execute_result"
        }
      ],
      "source": [
        "import nltk\n",
        "from xml.etree.ElementTree import Element, SubElement, tostring\n",
        "\n",
        "# Download NLTK tokenizer\n",
        "nltk.download('punkt')\n"
      ]
    },
    {
      "cell_type": "code",
      "execution_count": 33,
      "metadata": {
        "colab": {
          "base_uri": "https://localhost:8080/"
        },
        "id": "FOTqsfabTbDW",
        "outputId": "02e66b0e-903e-4c24-bb34-9ddd428d583e"
      },
      "outputs": [
        {
          "name": "stderr",
          "output_type": "stream",
          "text": [
            "[nltk_data] Downloading package punkt_tab to /root/nltk_data...\n",
            "[nltk_data]   Unzipping tokenizers/punkt_tab.zip.\n"
          ]
        },
        {
          "data": {
            "text/plain": [
              "True"
            ]
          },
          "execution_count": 33,
          "metadata": {},
          "output_type": "execute_result"
        }
      ],
      "source": [
        "nltk.download('punkt_tab')"
      ]
    },
    {
      "cell_type": "code",
      "execution_count": 35,
      "metadata": {
        "id": "cCnVaTeUS1Hb"
      },
      "outputs": [],
      "source": [
        "sentences_s = nltk.sent_tokenize(t_s)\n",
        "sentences_t = nltk.sent_tokenize(t_t)\n",
        "t_s_s = \"\\n\".join(sentences_s)\n",
        "t_s_t = \"\\n\".join(sentences_t)\n"
      ]
    },
    {
      "cell_type": "code",
      "execution_count": 36,
      "metadata": {
        "id": "X2xKkTP_Ucio"
      },
      "outputs": [],
      "source": [
        "with open(\"emma_en_2.txt\", \"w\") as file:\n",
        "    for sentence in sentences_s:\n",
        "        file.write(sentence + \"\\n\")"
      ]
    },
    {
      "cell_type": "code",
      "execution_count": 37,
      "metadata": {
        "id": "SDUxLdbWUhu0"
      },
      "outputs": [],
      "source": [
        "with open(\"emma_fr_2.txt\", \"w\") as file:\n",
        "    for sentence in sentences_t:\n",
        "        file.write(sentence + \"\\n\")"
      ]
    },
    {
      "cell_type": "code",
      "execution_count": 41,
      "metadata": {
        "colab": {
          "base_uri": "https://localhost:8080/"
        },
        "id": "GwmAWlu8UvNf",
        "outputId": "e2f8ec8e-e2d7-4677-fee8-cc4a7f493aa8"
      },
      "outputs": [
        {
          "name": "stdout",
          "output_type": "stream",
          "text": [
            "Allowed groups : [(0, 1), (1, 0), (1, 1), (1, 2), (2, 1), (1, 3), (3, 1), (1, 4), (4, 1), (2, 2)]\n",
            "2025-02-13 17:19:39.769544: E external/local_xla/xla/stream_executor/cuda/cuda_fft.cc:477] Unable to register cuFFT factory: Attempting to register factory for plugin cuFFT when one has already been registered\n",
            "WARNING: All log messages before absl::InitializeLog() is called are written to STDERR\n",
            "E0000 00:00:1739467179.805656   25779 cuda_dnn.cc:8310] Unable to register cuDNN factory: Attempting to register factory for plugin cuDNN when one has already been registered\n",
            "E0000 00:00:1739467179.817997   25779 cuda_blas.cc:1418] Unable to register cuBLAS factory: Attempting to register factory for plugin cuBLAS when one has already been registered\n",
            "*** Loading sbert model\n",
            "Processing /content/emma_en_2.txt and /content/emma_fr_2.txt\n",
            "Warning : default format TXT\n",
            "173 sentences for  en\n",
            "Warning : default format TXT\n",
            "111 sentences for  fr\n",
            "Running Encoder...\n",
            "\n",
            "\n",
            "1. Encoding --> 40.024752616882324 s.\n",
            "\n",
            "\n",
            "2. Normalization --> 0.0004863739013671875 s.\n",
            "\n",
            "\n",
            "3. Similarity matrix --> 0.0009505748748779297 s.\n",
            "\n",
            "\n",
            "4-5. Extracting and filtering k best vertically and horizontally --> 0.008065938949584961 s.\n",
            "\n",
            "\n",
            "6. Computing average density--> 0.1627030372619629 s.\n",
            "\n",
            "69 points have been removed!\n",
            "31 conflicting points have been removed!\n",
            "\n",
            "7. Removing low density points--> 0.1393430233001709 s.\n",
            "\n",
            "\n",
            "8. Extracting alignable intervals--> 4.291534423828125e-05 s.\n",
            "\n",
            "Debug: Closing last interval ((-1, -1),(172,110))\n",
            "Total interval length= 174 + 112\n",
            "Chararacter ratio= 0.8555521187751315\n",
            "Init : dtw from  (-1, -1)  to  (172, 110)\n",
            "Anchor point 0,0\n",
            "Anchor point 3,1\n",
            "Anchor point 6,2\n",
            "Anchor point 8,4\n",
            "Anchor point 11,6\n",
            "Anchor point 14,7\n",
            "Anchor point 16,8\n",
            "Anchor point 17,10\n",
            "Anchor point 20,11\n",
            "Anchor point 22,12\n",
            "Anchor point 23,13\n",
            "Anchor point 24,14\n",
            "Anchor point 26,15\n",
            "Anchor point 27,16\n",
            "Anchor point 29,17\n",
            "Anchor point 30,18\n",
            "Anchor point 32,19\n",
            "Anchor point 33,21\n",
            "Anchor point 35,20\n",
            "Anchor point 43,25\n",
            "Anchor point 44,26\n",
            "Anchor point 45,27\n",
            "Anchor point 48,28\n",
            "Anchor point 49,29\n",
            "Anchor point 50,30\n",
            "Anchor point 51,31\n",
            "Anchor point 53,32\n",
            "Anchor point 55,33\n",
            "Anchor point 59,34\n",
            "Anchor point 61,35\n",
            "Anchor point 65,36\n",
            "Anchor point 66,37\n",
            "Anchor point 69,38\n",
            "Anchor point 71,39\n",
            "Anchor point 74,41\n",
            "Anchor point 75,42\n",
            "Anchor point 76,43\n",
            "Anchor point 79,45\n",
            "Anchor point 80,46\n",
            "Anchor point 84,50\n",
            "Anchor point 85,52\n",
            "Anchor point 87,53\n",
            "Anchor point 91,54\n",
            "Anchor point 92,55\n",
            "Anchor point 94,57\n",
            "Anchor point 95,58\n",
            "Anchor point 99,59\n",
            "Anchor point 103,61\n",
            "Anchor point 105,62\n",
            "Anchor point 110,64\n",
            "Anchor point 111,65\n",
            "Anchor point 112,66\n",
            "Anchor point 113,67\n",
            "Anchor point 115,68\n",
            "Anchor point 118,69\n",
            "Anchor point 120,72\n",
            "Anchor point 123,74\n",
            "Anchor point 127,77\n",
            "Anchor point 131,78\n",
            "Anchor point 132,79\n",
            "Anchor point 133,80\n",
            "Anchor point 137,88\n",
            "Applying local margin 10 for point : (137,88) previous1=(133,80) with coeff=0.6416184971098265\n",
            "Anchor point 140,86\n",
            "Anchor point 142,90\n",
            "Anchor point 143,91\n",
            "Anchor point 147,93\n",
            "Anchor point 148,94\n",
            "Anchor point 149,95\n",
            "Anchor point 150,96\n",
            "Anchor point 152,97\n",
            "Anchor point 153,98\n",
            "Anchor point 156,99\n",
            "Anchor point 161,103\n",
            "Anchor point 162,106\n",
            "Anchor point 168,108\n",
            "Anchor point 171,109\n",
            "Anchor point 172,110\n",
            "Last point (172,110)\n",
            "\n",
            "9. Elapsed time for complete DTW--> 0.7401165962219238 s.\n",
            "\n",
            "Average similarity=0.4902\n",
            "Terminated in 41.08472739700028 s.\n"
          ]
        }
      ],
      "source": [
        "!python3 ailign.py --inputFile1 \"/content/emma_en_2.txt\" --inputFile2 \"/content/emma_fr_2.txt\" --inputFormat txt --outputFormats txt tmx ces --outputFile \"/content/test.en-fr_2\"\n"
      ]
    }
  ],
  "metadata": {
    "colab": {
      "provenance": []
    },
    "kernelspec": {
      "display_name": "Python 3",
      "name": "python3"
    },
    "language_info": {
      "name": "python"
    }
  },
  "nbformat": 4,
  "nbformat_minor": 0
}
